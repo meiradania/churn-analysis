{
 "cells": [
  {
   "cell_type": "markdown",
   "id": "c8df9504-3008-4bfe-85c3-8746421a069d",
   "metadata": {},
   "source": [
    "## Churn Analysis and model"
   ]
  },
  {
   "cell_type": "markdown",
   "id": "b5bbf0dc-23a8-4bf0-a5a9-85826929aed5",
   "metadata": {},
   "source": [
    "For a social network platform, the ability to identify potential user churn and proactively respond to retain those users is a valuable asset.\n",
    "\n",
    "The solution below supports to identify users at risk of churning. It includes my approach to data analysis, choice of model(s), feature selection, and strategies for user retention.\n",
    "\n",
    "Please note that we define a user \"churned\" if they did not visit within the last two months (column CHURNED).\n"
   ]
  },
  {
   "cell_type": "markdown",
   "id": "a639f5bc-d2ce-401f-a6a2-8fb502eaf9e1",
   "metadata": {
    "tags": []
   },
   "source": [
    "**Solution by Dânia Meira**"
   ]
  },
  {
   "cell_type": "markdown",
   "id": "8a78b485-b6b8-4d23-8e62-e0a28af0e2ff",
   "metadata": {
    "tags": []
   },
   "source": [
    "**Table of Contents**\n",
    "\n",
    "1. Checking provided dataset\n",
    "\n",
    "   1.1 Loading dataset\n",
    "   \n",
    "   1.2 Checking column types\n",
    "   \n",
    "   1.3 Checking for duplicates\n",
    "   \n",
    "   1.4 Checking for missing values\n",
    "   \n",
    "   1.5 Checking consistency\n",
    "   \n",
    "2. Feature engineering\n",
    "\n",
    "\n",
    "3. Exploratory analysis\n",
    "\n",
    "   3.1 Distribution of users by churn status\n",
    "   \n",
    "   3.2. Correlation between numerical variables, including the churn variable \n",
    "   \n",
    "   3.3 Exploring the different activity level between churned and non-churned users\n",
    "   \n",
    "      3.3.1 Visits\n",
    "      \n",
    "      3.3.2 Posts\n",
    "      \n",
    "      3.3.3 Likes\n",
    "   \n",
    "   \n",
    "4. Churn model\n",
    "\n",
    "5. Strategies for user retention"
   ]
  },
  {
   "cell_type": "markdown",
   "id": "decd6f4d-198c-4da5-9d1a-94abeaa167ec",
   "metadata": {
    "jp-MarkdownHeadingCollapsed": true,
    "tags": []
   },
   "source": [
    "# 1. Checking provided dataset"
   ]
  },
  {
   "cell_type": "markdown",
   "id": "bbad8d0c-5bdb-464e-98e3-38e4ebf7d552",
   "metadata": {
    "jp-MarkdownHeadingCollapsed": true,
    "tags": []
   },
   "source": [
    "I loaded the csv data and check for correct data types, missing data, duplicated rows and consistency of the data.\n",
    "\n",
    "### Result of consistency checks\n",
    "After confirming with your team, I can see that the dataset provided has users that registered in the period between March 1st, 2022 and February 27th, 2023 (one year time window).\n",
    "\n",
    "\n",
    "I also noticed that the dataset contains aggregated user information, that is, each row represents a unique user. And in the columns we can find registration timestamp, and then the count and last timestamp for the activities in the platform, such as: visit, post, receiving and giving likes, receivind and writting comments.\n",
    "\n",
    "\n",
    "Both the aggregation of the user activities and the CHURNED flag are calculated using the same reference date, which is in this case October 31st, 2023, again confirmed by your team. \n",
    "\n",
    "\n",
    "### Consequences for the task execution\n",
    "Given this structure of the data, it is not necessary to predict the churn flag, but simply calculate it using the last visit timestamp. \n",
    "\n",
    "\n",
    "Instead, it would make sense to predict the flag at any given point before the reference date on which the churn flag is created. Any moment prior to knowing that the 2 months without activity have passed. This way, a strategy for user retention could prevent users from churning, motivate them to visit the platform again before the 2 months without activity are completed.\n",
    "\n",
    "\n",
    "- With this data structure, I have conducted an exploratory analysis which can inform about the activity level of churned vs. non-churned users.\n",
    "\n",
    "- I have also written the code to train a logistic regression, even if that this would not be the model I put in production.\n",
    "\n",
    "- For productionizing a model, I would need a dataset that has:\n",
    "  - The same sample of users, selected with the period of registration between March 1st, 2022 and February 27th, 2023 \n",
    "  - The same churn flag, calculated by applying the churn definition considering the current reference date, October 31st, 2023.\n",
    "  - All the user variables except from registration, but calculated using an earlier reference date, e.g. 7 days before the churn calculation reference date. In this case it would be October 24th, 2023. \n",
    "  - This dataset would enable training a model that tries to predict on October 24th the probability of each of the users, to churn by October 31st."
   ]
  },
  {
   "cell_type": "markdown",
   "id": "eba60ba8-a328-4b16-a140-448eb1592714",
   "metadata": {
    "jp-MarkdownHeadingCollapsed": true,
    "tags": []
   },
   "source": [
    "## 1.1 Loading dataset"
   ]
  },
  {
   "cell_type": "code",
   "execution_count": 23,
   "id": "921e3d9f-8377-4c77-adc5-2fd4bb762d8c",
   "metadata": {
    "tags": []
   },
   "outputs": [],
   "source": [
    "import pandas as pd\n",
    "import numpy as np\n",
    "import matplotlib.pyplot as plt\n",
    "import seaborn as sns\n",
    "from sklearn.model_selection import train_test_split\n",
    "from sklearn.linear_model import LogisticRegression\n",
    "from sklearn import metrics"
   ]
  },
  {
   "cell_type": "code",
   "execution_count": 4,
   "id": "5bf2e09c-49c4-4689-8cec-d6d1896f4c73",
   "metadata": {
    "tags": []
   },
   "outputs": [
    {
     "data": {
      "text/html": [
       "<div>\n",
       "<style scoped>\n",
       "    .dataframe tbody tr th:only-of-type {\n",
       "        vertical-align: middle;\n",
       "    }\n",
       "\n",
       "    .dataframe tbody tr th {\n",
       "        vertical-align: top;\n",
       "    }\n",
       "\n",
       "    .dataframe thead th {\n",
       "        text-align: right;\n",
       "    }\n",
       "</style>\n",
       "<table border=\"1\" class=\"dataframe\">\n",
       "  <thead>\n",
       "    <tr style=\"text-align: right;\">\n",
       "      <th></th>\n",
       "      <th>USER_ID</th>\n",
       "      <th>REGISTRATION_AT</th>\n",
       "      <th>TOTAL_VISIT_COUNT</th>\n",
       "      <th>LAST_VISIT_AT</th>\n",
       "      <th>TOTAL_POST_COUNT</th>\n",
       "      <th>LAST_POST_AT</th>\n",
       "      <th>TOTAL_LIKES_RECEIVED</th>\n",
       "      <th>LAST_LIKE_RECEIVED_AT</th>\n",
       "      <th>TOTAL_COMMENTS_RECEIVED</th>\n",
       "      <th>LAST_COMMENT_RECEIVED_AT</th>\n",
       "      <th>TOTAL_LIKES_GIVEN</th>\n",
       "      <th>LAST_LIKE_GIVEN_AT</th>\n",
       "      <th>TOTAL_COMMENTS_WRITTEN</th>\n",
       "      <th>LAST_COMMENT_WRITTEN_AT</th>\n",
       "      <th>CHURNED</th>\n",
       "    </tr>\n",
       "  </thead>\n",
       "  <tbody>\n",
       "    <tr>\n",
       "      <th>0</th>\n",
       "      <td>1</td>\n",
       "      <td>2022-03-01T03:48:20.679066Z</td>\n",
       "      <td>22</td>\n",
       "      <td>2023-06-12</td>\n",
       "      <td>1</td>\n",
       "      <td>2022-03-09T07:02:02.80497Z</td>\n",
       "      <td>0</td>\n",
       "      <td>NaN</td>\n",
       "      <td>0</td>\n",
       "      <td>NaN</td>\n",
       "      <td>NaN</td>\n",
       "      <td>NaN</td>\n",
       "      <td>NaN</td>\n",
       "      <td>NaN</td>\n",
       "      <td>True</td>\n",
       "    </tr>\n",
       "    <tr>\n",
       "      <th>1</th>\n",
       "      <td>2</td>\n",
       "      <td>2022-03-01T05:54:58.396265Z</td>\n",
       "      <td>148</td>\n",
       "      <td>2023-10-29</td>\n",
       "      <td>3</td>\n",
       "      <td>2023-07-16T17:06:24.867194Z</td>\n",
       "      <td>1</td>\n",
       "      <td>2023-07-16T16:59:24.539827Z</td>\n",
       "      <td>0</td>\n",
       "      <td>NaN</td>\n",
       "      <td>4.0</td>\n",
       "      <td>2023-07-16T16:59:24.539827Z</td>\n",
       "      <td>5.0</td>\n",
       "      <td>2023-10-22T05:55:33.144606Z</td>\n",
       "      <td>False</td>\n",
       "    </tr>\n",
       "    <tr>\n",
       "      <th>2</th>\n",
       "      <td>3</td>\n",
       "      <td>2022-03-01T06:25:56.171159Z</td>\n",
       "      <td>202</td>\n",
       "      <td>2023-10-25</td>\n",
       "      <td>2</td>\n",
       "      <td>2022-05-02T12:50:11.559472Z</td>\n",
       "      <td>2</td>\n",
       "      <td>2023-05-09T02:46:35.201142Z</td>\n",
       "      <td>1</td>\n",
       "      <td>2022-05-03T08:38:59.565323Z</td>\n",
       "      <td>3.0</td>\n",
       "      <td>2022-07-02T23:32:58.962703Z</td>\n",
       "      <td>11.0</td>\n",
       "      <td>2023-08-20T18:57:50.372676Z</td>\n",
       "      <td>False</td>\n",
       "    </tr>\n",
       "    <tr>\n",
       "      <th>3</th>\n",
       "      <td>4</td>\n",
       "      <td>2022-03-01T06:57:51.445332Z</td>\n",
       "      <td>274</td>\n",
       "      <td>2023-10-30</td>\n",
       "      <td>2</td>\n",
       "      <td>2022-11-17T17:37:25.007611Z</td>\n",
       "      <td>7</td>\n",
       "      <td>2022-11-20T07:10:51.768648Z</td>\n",
       "      <td>8</td>\n",
       "      <td>2022-11-30T08:58:08.478337Z</td>\n",
       "      <td>1.0</td>\n",
       "      <td>2022-09-15T09:44:39.575046Z</td>\n",
       "      <td>7.0</td>\n",
       "      <td>2023-09-26T20:56:21.030939Z</td>\n",
       "      <td>False</td>\n",
       "    </tr>\n",
       "    <tr>\n",
       "      <th>4</th>\n",
       "      <td>5</td>\n",
       "      <td>2022-03-01T07:19:51.606981Z</td>\n",
       "      <td>46</td>\n",
       "      <td>2023-08-30</td>\n",
       "      <td>4</td>\n",
       "      <td>2023-04-06T04:59:51.919291Z</td>\n",
       "      <td>0</td>\n",
       "      <td>NaN</td>\n",
       "      <td>6</td>\n",
       "      <td>2023-04-06T06:40:43.698873Z</td>\n",
       "      <td>NaN</td>\n",
       "      <td>NaN</td>\n",
       "      <td>4.0</td>\n",
       "      <td>2023-07-26T14:29:46.728719Z</td>\n",
       "      <td>True</td>\n",
       "    </tr>\n",
       "  </tbody>\n",
       "</table>\n",
       "</div>"
      ],
      "text/plain": [
       "   USER_ID              REGISTRATION_AT  TOTAL_VISIT_COUNT LAST_VISIT_AT  \\\n",
       "0        1  2022-03-01T03:48:20.679066Z                 22    2023-06-12   \n",
       "1        2  2022-03-01T05:54:58.396265Z                148    2023-10-29   \n",
       "2        3  2022-03-01T06:25:56.171159Z                202    2023-10-25   \n",
       "3        4  2022-03-01T06:57:51.445332Z                274    2023-10-30   \n",
       "4        5  2022-03-01T07:19:51.606981Z                 46    2023-08-30   \n",
       "\n",
       "   TOTAL_POST_COUNT                 LAST_POST_AT  TOTAL_LIKES_RECEIVED  \\\n",
       "0                 1   2022-03-09T07:02:02.80497Z                     0   \n",
       "1                 3  2023-07-16T17:06:24.867194Z                     1   \n",
       "2                 2  2022-05-02T12:50:11.559472Z                     2   \n",
       "3                 2  2022-11-17T17:37:25.007611Z                     7   \n",
       "4                 4  2023-04-06T04:59:51.919291Z                     0   \n",
       "\n",
       "         LAST_LIKE_RECEIVED_AT  TOTAL_COMMENTS_RECEIVED  \\\n",
       "0                          NaN                        0   \n",
       "1  2023-07-16T16:59:24.539827Z                        0   \n",
       "2  2023-05-09T02:46:35.201142Z                        1   \n",
       "3  2022-11-20T07:10:51.768648Z                        8   \n",
       "4                          NaN                        6   \n",
       "\n",
       "      LAST_COMMENT_RECEIVED_AT  TOTAL_LIKES_GIVEN  \\\n",
       "0                          NaN                NaN   \n",
       "1                          NaN                4.0   \n",
       "2  2022-05-03T08:38:59.565323Z                3.0   \n",
       "3  2022-11-30T08:58:08.478337Z                1.0   \n",
       "4  2023-04-06T06:40:43.698873Z                NaN   \n",
       "\n",
       "            LAST_LIKE_GIVEN_AT  TOTAL_COMMENTS_WRITTEN  \\\n",
       "0                          NaN                     NaN   \n",
       "1  2023-07-16T16:59:24.539827Z                     5.0   \n",
       "2  2022-07-02T23:32:58.962703Z                    11.0   \n",
       "3  2022-09-15T09:44:39.575046Z                     7.0   \n",
       "4                          NaN                     4.0   \n",
       "\n",
       "       LAST_COMMENT_WRITTEN_AT  CHURNED  \n",
       "0                          NaN     True  \n",
       "1  2023-10-22T05:55:33.144606Z    False  \n",
       "2  2023-08-20T18:57:50.372676Z    False  \n",
       "3  2023-09-26T20:56:21.030939Z    False  \n",
       "4  2023-07-26T14:29:46.728719Z     True  "
      ]
     },
     "execution_count": 4,
     "metadata": {},
     "output_type": "execute_result"
    }
   ],
   "source": [
    "df = pd.read_csv('C:/Users/meira/Downloads/2023_senior_data_scientist_challenge.csv')\n",
    "df.head()"
   ]
  },
  {
   "cell_type": "code",
   "execution_count": 5,
   "id": "1bacd24f-be6d-4786-be03-d32597a0eaea",
   "metadata": {
    "tags": []
   },
   "outputs": [
    {
     "data": {
      "text/plain": [
       "(50000, 15)"
      ]
     },
     "execution_count": 5,
     "metadata": {},
     "output_type": "execute_result"
    }
   ],
   "source": [
    "df.shape"
   ]
  },
  {
   "cell_type": "code",
   "execution_count": 6,
   "id": "6ae11e9f-6cc2-4c96-ae2b-01d945a9dbda",
   "metadata": {
    "tags": []
   },
   "outputs": [
    {
     "data": {
      "text/plain": [
       "Index(['USER_ID', 'REGISTRATION_AT', 'TOTAL_VISIT_COUNT', 'LAST_VISIT_AT',\n",
       "       'TOTAL_POST_COUNT', 'LAST_POST_AT', 'TOTAL_LIKES_RECEIVED',\n",
       "       'LAST_LIKE_RECEIVED_AT', 'TOTAL_COMMENTS_RECEIVED',\n",
       "       'LAST_COMMENT_RECEIVED_AT', 'TOTAL_LIKES_GIVEN', 'LAST_LIKE_GIVEN_AT',\n",
       "       'TOTAL_COMMENTS_WRITTEN', 'LAST_COMMENT_WRITTEN_AT', 'CHURNED'],\n",
       "      dtype='object')"
      ]
     },
     "execution_count": 6,
     "metadata": {},
     "output_type": "execute_result"
    }
   ],
   "source": [
    "df.columns"
   ]
  },
  {
   "cell_type": "markdown",
   "id": "db123c4d-ed27-44b7-874e-6426d0882ed5",
   "metadata": {
    "jp-MarkdownHeadingCollapsed": true,
    "tags": []
   },
   "source": [
    "## 1.2 Checking column types\n",
    "\n",
    "Transformations executed:\n",
    "- Churn boolean to churn int (copy to a new column)\n",
    "- All variables with timestamp were read as text type, therefore I converted to timestamp type."
   ]
  },
  {
   "cell_type": "code",
   "execution_count": 7,
   "id": "a268e2d9-d342-4f7b-8471-f457a640845b",
   "metadata": {
    "tags": []
   },
   "outputs": [
    {
     "name": "stdout",
     "output_type": "stream",
     "text": [
      "<class 'pandas.core.frame.DataFrame'>\n",
      "RangeIndex: 50000 entries, 0 to 49999\n",
      "Data columns (total 15 columns):\n",
      " #   Column                    Non-Null Count  Dtype  \n",
      "---  ------                    --------------  -----  \n",
      " 0   USER_ID                   50000 non-null  int64  \n",
      " 1   REGISTRATION_AT           50000 non-null  object \n",
      " 2   TOTAL_VISIT_COUNT         50000 non-null  int64  \n",
      " 3   LAST_VISIT_AT             50000 non-null  object \n",
      " 4   TOTAL_POST_COUNT          50000 non-null  int64  \n",
      " 5   LAST_POST_AT              50000 non-null  object \n",
      " 6   TOTAL_LIKES_RECEIVED      50000 non-null  int64  \n",
      " 7   LAST_LIKE_RECEIVED_AT     31528 non-null  object \n",
      " 8   TOTAL_COMMENTS_RECEIVED   50000 non-null  int64  \n",
      " 9   LAST_COMMENT_RECEIVED_AT  38004 non-null  object \n",
      " 10  TOTAL_LIKES_GIVEN         32115 non-null  float64\n",
      " 11  LAST_LIKE_GIVEN_AT        32115 non-null  object \n",
      " 12  TOTAL_COMMENTS_WRITTEN    31751 non-null  float64\n",
      " 13  LAST_COMMENT_WRITTEN_AT   31751 non-null  object \n",
      " 14  CHURNED                   50000 non-null  bool   \n",
      "dtypes: bool(1), float64(2), int64(5), object(7)\n",
      "memory usage: 5.4+ MB\n"
     ]
    }
   ],
   "source": [
    "df.info()"
   ]
  },
  {
   "cell_type": "code",
   "execution_count": 8,
   "id": "3161b3a9-d1b5-4b93-af86-8e378554e4e8",
   "metadata": {
    "tags": []
   },
   "outputs": [
    {
     "name": "stdout",
     "output_type": "stream",
     "text": [
      "<class 'pandas.core.frame.DataFrame'>\n",
      "RangeIndex: 50000 entries, 0 to 49999\n",
      "Data columns (total 16 columns):\n",
      " #   Column                    Non-Null Count  Dtype  \n",
      "---  ------                    --------------  -----  \n",
      " 0   USER_ID                   50000 non-null  int64  \n",
      " 1   REGISTRATION_AT           50000 non-null  object \n",
      " 2   TOTAL_VISIT_COUNT         50000 non-null  int64  \n",
      " 3   LAST_VISIT_AT             50000 non-null  object \n",
      " 4   TOTAL_POST_COUNT          50000 non-null  int64  \n",
      " 5   LAST_POST_AT              50000 non-null  object \n",
      " 6   TOTAL_LIKES_RECEIVED      50000 non-null  int64  \n",
      " 7   LAST_LIKE_RECEIVED_AT     31528 non-null  object \n",
      " 8   TOTAL_COMMENTS_RECEIVED   50000 non-null  int64  \n",
      " 9   LAST_COMMENT_RECEIVED_AT  38004 non-null  object \n",
      " 10  TOTAL_LIKES_GIVEN         32115 non-null  float64\n",
      " 11  LAST_LIKE_GIVEN_AT        32115 non-null  object \n",
      " 12  TOTAL_COMMENTS_WRITTEN    31751 non-null  float64\n",
      " 13  LAST_COMMENT_WRITTEN_AT   31751 non-null  object \n",
      " 14  CHURNED                   50000 non-null  bool   \n",
      " 15  CHURNED_INT               50000 non-null  int64  \n",
      "dtypes: bool(1), float64(2), int64(6), object(7)\n",
      "memory usage: 5.8+ MB\n"
     ]
    }
   ],
   "source": [
    "# The variable of interest, CHURNED, is a boolean. \n",
    "# I will create a column with the same values but as int64 to allow for numerical calculation\n",
    "df['CHURNED_INT'] = df.CHURNED.astype('int64')\n",
    "df.info()"
   ]
  },
  {
   "cell_type": "code",
   "execution_count": 9,
   "id": "27632d89-d1b1-4de3-baab-a171d9f44313",
   "metadata": {
    "tags": []
   },
   "outputs": [
    {
     "name": "stdout",
     "output_type": "stream",
     "text": [
      "['LAST_VISIT_AT', 'LAST_POST_AT', 'LAST_LIKE_RECEIVED_AT', 'LAST_COMMENT_RECEIVED_AT', 'LAST_LIKE_GIVEN_AT', 'LAST_COMMENT_WRITTEN_AT']\n",
      "<class 'pandas.core.frame.DataFrame'>\n",
      "RangeIndex: 50000 entries, 0 to 49999\n",
      "Data columns (total 16 columns):\n",
      " #   Column                    Non-Null Count  Dtype              \n",
      "---  ------                    --------------  -----              \n",
      " 0   USER_ID                   50000 non-null  int64              \n",
      " 1   REGISTRATION_AT           50000 non-null  datetime64[ns, UTC]\n",
      " 2   TOTAL_VISIT_COUNT         50000 non-null  int64              \n",
      " 3   LAST_VISIT_AT             50000 non-null  datetime64[ns]     \n",
      " 4   TOTAL_POST_COUNT          50000 non-null  int64              \n",
      " 5   LAST_POST_AT              50000 non-null  datetime64[ns, UTC]\n",
      " 6   TOTAL_LIKES_RECEIVED      50000 non-null  int64              \n",
      " 7   LAST_LIKE_RECEIVED_AT     31528 non-null  datetime64[ns, UTC]\n",
      " 8   TOTAL_COMMENTS_RECEIVED   50000 non-null  int64              \n",
      " 9   LAST_COMMENT_RECEIVED_AT  38004 non-null  datetime64[ns, UTC]\n",
      " 10  TOTAL_LIKES_GIVEN         32115 non-null  float64            \n",
      " 11  LAST_LIKE_GIVEN_AT        32115 non-null  datetime64[ns, UTC]\n",
      " 12  TOTAL_COMMENTS_WRITTEN    31751 non-null  float64            \n",
      " 13  LAST_COMMENT_WRITTEN_AT   31751 non-null  datetime64[ns, UTC]\n",
      " 14  CHURNED                   50000 non-null  bool               \n",
      " 15  CHURNED_INT               50000 non-null  int64              \n",
      "dtypes: bool(1), datetime64[ns, UTC](6), datetime64[ns](1), float64(2), int64(6)\n",
      "memory usage: 5.8 MB\n"
     ]
    }
   ],
   "source": [
    "# 1- Select column names that start with \"LAST\"\n",
    "timestamp_column_names = [col for col in df.columns if col.startswith('LAST')]\n",
    "\n",
    "# 2- Transform columns with timestamp string into datetime type\n",
    "print(timestamp_column_names)\n",
    "\n",
    "df[timestamp_column_names] = df[timestamp_column_names].apply(pd.to_datetime, errors='coerce')\n",
    "\n",
    "# Registration is also a timestamp\n",
    "df['REGISTRATION_AT'] = pd.to_datetime(df['REGISTRATION_AT'], errors='coerce')\n",
    "\n",
    "df.info()"
   ]
  },
  {
   "cell_type": "code",
   "execution_count": 10,
   "id": "0a45fafd-4792-4516-9ddf-4d883fd4d8ea",
   "metadata": {
    "tags": []
   },
   "outputs": [
    {
     "name": "stdout",
     "output_type": "stream",
     "text": [
      "<class 'pandas.core.frame.DataFrame'>\n",
      "RangeIndex: 50000 entries, 0 to 49999\n",
      "Data columns (total 16 columns):\n",
      " #   Column                    Non-Null Count  Dtype              \n",
      "---  ------                    --------------  -----              \n",
      " 0   USER_ID                   50000 non-null  int64              \n",
      " 1   REGISTRATION_AT           50000 non-null  datetime64[ns, UTC]\n",
      " 2   TOTAL_VISIT_COUNT         50000 non-null  int64              \n",
      " 3   LAST_VISIT_AT             50000 non-null  datetime64[ns, UTC]\n",
      " 4   TOTAL_POST_COUNT          50000 non-null  int64              \n",
      " 5   LAST_POST_AT              50000 non-null  datetime64[ns, UTC]\n",
      " 6   TOTAL_LIKES_RECEIVED      50000 non-null  int64              \n",
      " 7   LAST_LIKE_RECEIVED_AT     31528 non-null  datetime64[ns, UTC]\n",
      " 8   TOTAL_COMMENTS_RECEIVED   50000 non-null  int64              \n",
      " 9   LAST_COMMENT_RECEIVED_AT  38004 non-null  datetime64[ns, UTC]\n",
      " 10  TOTAL_LIKES_GIVEN         32115 non-null  float64            \n",
      " 11  LAST_LIKE_GIVEN_AT        32115 non-null  datetime64[ns, UTC]\n",
      " 12  TOTAL_COMMENTS_WRITTEN    31751 non-null  float64            \n",
      " 13  LAST_COMMENT_WRITTEN_AT   31751 non-null  datetime64[ns, UTC]\n",
      " 14  CHURNED                   50000 non-null  bool               \n",
      " 15  CHURNED_INT               50000 non-null  int64              \n",
      "dtypes: bool(1), datetime64[ns, UTC](7), float64(2), int64(6)\n",
      "memory usage: 5.8 MB\n"
     ]
    }
   ],
   "source": [
    "# get the column LAST_VISIT_AT in the same format as the other timestamp columns\n",
    "df['LAST_VISIT_AT'] = df['LAST_VISIT_AT'].dt.tz_localize('UTC')\n",
    "df.info()"
   ]
  },
  {
   "cell_type": "code",
   "execution_count": 11,
   "id": "649cbd50-7579-4828-9416-27dd8d7e14d6",
   "metadata": {
    "tags": []
   },
   "outputs": [
    {
     "data": {
      "text/html": [
       "<div>\n",
       "<style scoped>\n",
       "    .dataframe tbody tr th:only-of-type {\n",
       "        vertical-align: middle;\n",
       "    }\n",
       "\n",
       "    .dataframe tbody tr th {\n",
       "        vertical-align: top;\n",
       "    }\n",
       "\n",
       "    .dataframe thead th {\n",
       "        text-align: right;\n",
       "    }\n",
       "</style>\n",
       "<table border=\"1\" class=\"dataframe\">\n",
       "  <thead>\n",
       "    <tr style=\"text-align: right;\">\n",
       "      <th></th>\n",
       "      <th>USER_ID</th>\n",
       "      <th>REGISTRATION_AT</th>\n",
       "      <th>TOTAL_VISIT_COUNT</th>\n",
       "      <th>LAST_VISIT_AT</th>\n",
       "      <th>TOTAL_POST_COUNT</th>\n",
       "      <th>LAST_POST_AT</th>\n",
       "      <th>TOTAL_LIKES_RECEIVED</th>\n",
       "      <th>LAST_LIKE_RECEIVED_AT</th>\n",
       "      <th>TOTAL_COMMENTS_RECEIVED</th>\n",
       "      <th>LAST_COMMENT_RECEIVED_AT</th>\n",
       "      <th>TOTAL_LIKES_GIVEN</th>\n",
       "      <th>LAST_LIKE_GIVEN_AT</th>\n",
       "      <th>TOTAL_COMMENTS_WRITTEN</th>\n",
       "      <th>LAST_COMMENT_WRITTEN_AT</th>\n",
       "      <th>CHURNED</th>\n",
       "      <th>CHURNED_INT</th>\n",
       "    </tr>\n",
       "  </thead>\n",
       "  <tbody>\n",
       "    <tr>\n",
       "      <th>0</th>\n",
       "      <td>1</td>\n",
       "      <td>2022-03-01 03:48:20.679066+00:00</td>\n",
       "      <td>22</td>\n",
       "      <td>2023-06-12 00:00:00+00:00</td>\n",
       "      <td>1</td>\n",
       "      <td>2022-03-09 07:02:02.804970+00:00</td>\n",
       "      <td>0</td>\n",
       "      <td>NaT</td>\n",
       "      <td>0</td>\n",
       "      <td>NaT</td>\n",
       "      <td>NaN</td>\n",
       "      <td>NaT</td>\n",
       "      <td>NaN</td>\n",
       "      <td>NaT</td>\n",
       "      <td>True</td>\n",
       "      <td>1</td>\n",
       "    </tr>\n",
       "    <tr>\n",
       "      <th>1</th>\n",
       "      <td>2</td>\n",
       "      <td>2022-03-01 05:54:58.396265+00:00</td>\n",
       "      <td>148</td>\n",
       "      <td>2023-10-29 00:00:00+00:00</td>\n",
       "      <td>3</td>\n",
       "      <td>2023-07-16 17:06:24.867194+00:00</td>\n",
       "      <td>1</td>\n",
       "      <td>2023-07-16 16:59:24.539827+00:00</td>\n",
       "      <td>0</td>\n",
       "      <td>NaT</td>\n",
       "      <td>4.0</td>\n",
       "      <td>2023-07-16 16:59:24.539827+00:00</td>\n",
       "      <td>5.0</td>\n",
       "      <td>2023-10-22 05:55:33.144606+00:00</td>\n",
       "      <td>False</td>\n",
       "      <td>0</td>\n",
       "    </tr>\n",
       "    <tr>\n",
       "      <th>2</th>\n",
       "      <td>3</td>\n",
       "      <td>2022-03-01 06:25:56.171159+00:00</td>\n",
       "      <td>202</td>\n",
       "      <td>2023-10-25 00:00:00+00:00</td>\n",
       "      <td>2</td>\n",
       "      <td>2022-05-02 12:50:11.559472+00:00</td>\n",
       "      <td>2</td>\n",
       "      <td>2023-05-09 02:46:35.201142+00:00</td>\n",
       "      <td>1</td>\n",
       "      <td>2022-05-03 08:38:59.565323+00:00</td>\n",
       "      <td>3.0</td>\n",
       "      <td>2022-07-02 23:32:58.962703+00:00</td>\n",
       "      <td>11.0</td>\n",
       "      <td>2023-08-20 18:57:50.372676+00:00</td>\n",
       "      <td>False</td>\n",
       "      <td>0</td>\n",
       "    </tr>\n",
       "    <tr>\n",
       "      <th>3</th>\n",
       "      <td>4</td>\n",
       "      <td>2022-03-01 06:57:51.445332+00:00</td>\n",
       "      <td>274</td>\n",
       "      <td>2023-10-30 00:00:00+00:00</td>\n",
       "      <td>2</td>\n",
       "      <td>2022-11-17 17:37:25.007611+00:00</td>\n",
       "      <td>7</td>\n",
       "      <td>2022-11-20 07:10:51.768648+00:00</td>\n",
       "      <td>8</td>\n",
       "      <td>2022-11-30 08:58:08.478337+00:00</td>\n",
       "      <td>1.0</td>\n",
       "      <td>2022-09-15 09:44:39.575046+00:00</td>\n",
       "      <td>7.0</td>\n",
       "      <td>2023-09-26 20:56:21.030939+00:00</td>\n",
       "      <td>False</td>\n",
       "      <td>0</td>\n",
       "    </tr>\n",
       "    <tr>\n",
       "      <th>4</th>\n",
       "      <td>5</td>\n",
       "      <td>2022-03-01 07:19:51.606981+00:00</td>\n",
       "      <td>46</td>\n",
       "      <td>2023-08-30 00:00:00+00:00</td>\n",
       "      <td>4</td>\n",
       "      <td>2023-04-06 04:59:51.919291+00:00</td>\n",
       "      <td>0</td>\n",
       "      <td>NaT</td>\n",
       "      <td>6</td>\n",
       "      <td>2023-04-06 06:40:43.698873+00:00</td>\n",
       "      <td>NaN</td>\n",
       "      <td>NaT</td>\n",
       "      <td>4.0</td>\n",
       "      <td>2023-07-26 14:29:46.728719+00:00</td>\n",
       "      <td>True</td>\n",
       "      <td>1</td>\n",
       "    </tr>\n",
       "  </tbody>\n",
       "</table>\n",
       "</div>"
      ],
      "text/plain": [
       "   USER_ID                  REGISTRATION_AT  TOTAL_VISIT_COUNT  \\\n",
       "0        1 2022-03-01 03:48:20.679066+00:00                 22   \n",
       "1        2 2022-03-01 05:54:58.396265+00:00                148   \n",
       "2        3 2022-03-01 06:25:56.171159+00:00                202   \n",
       "3        4 2022-03-01 06:57:51.445332+00:00                274   \n",
       "4        5 2022-03-01 07:19:51.606981+00:00                 46   \n",
       "\n",
       "              LAST_VISIT_AT  TOTAL_POST_COUNT  \\\n",
       "0 2023-06-12 00:00:00+00:00                 1   \n",
       "1 2023-10-29 00:00:00+00:00                 3   \n",
       "2 2023-10-25 00:00:00+00:00                 2   \n",
       "3 2023-10-30 00:00:00+00:00                 2   \n",
       "4 2023-08-30 00:00:00+00:00                 4   \n",
       "\n",
       "                      LAST_POST_AT  TOTAL_LIKES_RECEIVED  \\\n",
       "0 2022-03-09 07:02:02.804970+00:00                     0   \n",
       "1 2023-07-16 17:06:24.867194+00:00                     1   \n",
       "2 2022-05-02 12:50:11.559472+00:00                     2   \n",
       "3 2022-11-17 17:37:25.007611+00:00                     7   \n",
       "4 2023-04-06 04:59:51.919291+00:00                     0   \n",
       "\n",
       "             LAST_LIKE_RECEIVED_AT  TOTAL_COMMENTS_RECEIVED  \\\n",
       "0                              NaT                        0   \n",
       "1 2023-07-16 16:59:24.539827+00:00                        0   \n",
       "2 2023-05-09 02:46:35.201142+00:00                        1   \n",
       "3 2022-11-20 07:10:51.768648+00:00                        8   \n",
       "4                              NaT                        6   \n",
       "\n",
       "          LAST_COMMENT_RECEIVED_AT  TOTAL_LIKES_GIVEN  \\\n",
       "0                              NaT                NaN   \n",
       "1                              NaT                4.0   \n",
       "2 2022-05-03 08:38:59.565323+00:00                3.0   \n",
       "3 2022-11-30 08:58:08.478337+00:00                1.0   \n",
       "4 2023-04-06 06:40:43.698873+00:00                NaN   \n",
       "\n",
       "                LAST_LIKE_GIVEN_AT  TOTAL_COMMENTS_WRITTEN  \\\n",
       "0                              NaT                     NaN   \n",
       "1 2023-07-16 16:59:24.539827+00:00                     5.0   \n",
       "2 2022-07-02 23:32:58.962703+00:00                    11.0   \n",
       "3 2022-09-15 09:44:39.575046+00:00                     7.0   \n",
       "4                              NaT                     4.0   \n",
       "\n",
       "           LAST_COMMENT_WRITTEN_AT  CHURNED  CHURNED_INT  \n",
       "0                              NaT     True            1  \n",
       "1 2023-10-22 05:55:33.144606+00:00    False            0  \n",
       "2 2023-08-20 18:57:50.372676+00:00    False            0  \n",
       "3 2023-09-26 20:56:21.030939+00:00    False            0  \n",
       "4 2023-07-26 14:29:46.728719+00:00     True            1  "
      ]
     },
     "execution_count": 11,
     "metadata": {},
     "output_type": "execute_result"
    }
   ],
   "source": [
    "df.head()"
   ]
  },
  {
   "cell_type": "markdown",
   "id": "5bb2029f-0a1d-47bf-8682-8a72b2f123da",
   "metadata": {
    "jp-MarkdownHeadingCollapsed": true,
    "tags": []
   },
   "source": [
    "## 1.3 Checking for duplicates\n",
    "\n",
    "- No duplicates found in this dataset. "
   ]
  },
  {
   "cell_type": "code",
   "execution_count": 12,
   "id": "9582b787-fc01-4157-94ac-65566d3f0f71",
   "metadata": {
    "tags": []
   },
   "outputs": [
    {
     "data": {
      "text/plain": [
       "(0, 16)"
      ]
     },
     "execution_count": 12,
     "metadata": {},
     "output_type": "execute_result"
    }
   ],
   "source": [
    "# Finding duplicates\n",
    "df_dups = df[df.duplicated()]\n",
    "df_dups.shape"
   ]
  },
  {
   "cell_type": "markdown",
   "id": "5f0209fe-cea7-4213-956a-a9a2920dc9e6",
   "metadata": {
    "jp-MarkdownHeadingCollapsed": true,
    "tags": []
   },
   "source": [
    "## 1.4 Checking for missing values\n",
    "\n",
    "Some columns are missing data, which is justified by the following:\n",
    "- LAST_LIKE_RECEIVED_AT -> the user has never received a \"like\". From 50k, 18,472 users. \n",
    "- LAST_COMMENT_RECEIVED_AT -> the user has never received a comment. From 50k, 11,996 users. \n",
    "- TOTAL_LIKES_GIVEN and LAST_LIKE_GIVEN_AT ->the user has never given a \"like\". From 50k, 17,885 users. \n",
    "- TOTAL_COMMENTS_WRITTEN and LAST_COMMENT_WRITTEN_AT -> the user never wrote a comment. From 50k, 18,249 users. \n",
    "\n",
    "Being justified, I kept the rows and left the data as is."
   ]
  },
  {
   "cell_type": "code",
   "execution_count": 13,
   "id": "abdfe5fa-be18-4f18-91b3-ab74c584d462",
   "metadata": {
    "tags": []
   },
   "outputs": [
    {
     "data": {
      "text/plain": [
       "USER_ID                         0\n",
       "REGISTRATION_AT                 0\n",
       "TOTAL_VISIT_COUNT               0\n",
       "LAST_VISIT_AT                   0\n",
       "TOTAL_POST_COUNT                0\n",
       "LAST_POST_AT                    0\n",
       "TOTAL_LIKES_RECEIVED            0\n",
       "LAST_LIKE_RECEIVED_AT       18472\n",
       "TOTAL_COMMENTS_RECEIVED         0\n",
       "LAST_COMMENT_RECEIVED_AT    11996\n",
       "TOTAL_LIKES_GIVEN           17885\n",
       "LAST_LIKE_GIVEN_AT          17885\n",
       "TOTAL_COMMENTS_WRITTEN      18249\n",
       "LAST_COMMENT_WRITTEN_AT     18249\n",
       "CHURNED                         0\n",
       "CHURNED_INT                     0\n",
       "dtype: int64"
      ]
     },
     "execution_count": 13,
     "metadata": {},
     "output_type": "execute_result"
    }
   ],
   "source": [
    "df.isnull().sum()"
   ]
  },
  {
   "cell_type": "code",
   "execution_count": 14,
   "id": "d24b8a54-84c2-4801-b366-c84bea0ead97",
   "metadata": {
    "tags": []
   },
   "outputs": [
    {
     "data": {
      "text/html": [
       "<div>\n",
       "<style scoped>\n",
       "    .dataframe tbody tr th:only-of-type {\n",
       "        vertical-align: middle;\n",
       "    }\n",
       "\n",
       "    .dataframe tbody tr th {\n",
       "        vertical-align: top;\n",
       "    }\n",
       "\n",
       "    .dataframe thead th {\n",
       "        text-align: right;\n",
       "    }\n",
       "</style>\n",
       "<table border=\"1\" class=\"dataframe\">\n",
       "  <thead>\n",
       "    <tr style=\"text-align: right;\">\n",
       "      <th></th>\n",
       "      <th>USER_ID</th>\n",
       "      <th>TOTAL_VISIT_COUNT</th>\n",
       "      <th>TOTAL_POST_COUNT</th>\n",
       "      <th>TOTAL_LIKES_RECEIVED</th>\n",
       "      <th>TOTAL_COMMENTS_RECEIVED</th>\n",
       "      <th>TOTAL_LIKES_GIVEN</th>\n",
       "      <th>TOTAL_COMMENTS_WRITTEN</th>\n",
       "      <th>CHURNED_INT</th>\n",
       "    </tr>\n",
       "  </thead>\n",
       "  <tbody>\n",
       "    <tr>\n",
       "      <th>count</th>\n",
       "      <td>50000.000000</td>\n",
       "      <td>50000.000000</td>\n",
       "      <td>50000.0000</td>\n",
       "      <td>50000.000000</td>\n",
       "      <td>50000.000000</td>\n",
       "      <td>32115.000000</td>\n",
       "      <td>31751.000000</td>\n",
       "      <td>50000.000000</td>\n",
       "    </tr>\n",
       "    <tr>\n",
       "      <th>mean</th>\n",
       "      <td>25000.500000</td>\n",
       "      <td>80.323280</td>\n",
       "      <td>3.2949</td>\n",
       "      <td>4.047600</td>\n",
       "      <td>6.966360</td>\n",
       "      <td>10.091733</td>\n",
       "      <td>7.419388</td>\n",
       "      <td>0.500000</td>\n",
       "    </tr>\n",
       "    <tr>\n",
       "      <th>std</th>\n",
       "      <td>14433.901067</td>\n",
       "      <td>99.401578</td>\n",
       "      <td>12.3165</td>\n",
       "      <td>20.300791</td>\n",
       "      <td>19.458295</td>\n",
       "      <td>41.725648</td>\n",
       "      <td>21.283468</td>\n",
       "      <td>0.500005</td>\n",
       "    </tr>\n",
       "    <tr>\n",
       "      <th>min</th>\n",
       "      <td>1.000000</td>\n",
       "      <td>1.000000</td>\n",
       "      <td>1.0000</td>\n",
       "      <td>0.000000</td>\n",
       "      <td>0.000000</td>\n",
       "      <td>1.000000</td>\n",
       "      <td>1.000000</td>\n",
       "      <td>0.000000</td>\n",
       "    </tr>\n",
       "    <tr>\n",
       "      <th>25%</th>\n",
       "      <td>12500.750000</td>\n",
       "      <td>15.000000</td>\n",
       "      <td>1.0000</td>\n",
       "      <td>0.000000</td>\n",
       "      <td>1.000000</td>\n",
       "      <td>1.000000</td>\n",
       "      <td>1.000000</td>\n",
       "      <td>0.000000</td>\n",
       "    </tr>\n",
       "    <tr>\n",
       "      <th>50%</th>\n",
       "      <td>25000.500000</td>\n",
       "      <td>39.000000</td>\n",
       "      <td>2.0000</td>\n",
       "      <td>1.000000</td>\n",
       "      <td>3.000000</td>\n",
       "      <td>3.000000</td>\n",
       "      <td>3.000000</td>\n",
       "      <td>0.500000</td>\n",
       "    </tr>\n",
       "    <tr>\n",
       "      <th>75%</th>\n",
       "      <td>37500.250000</td>\n",
       "      <td>104.000000</td>\n",
       "      <td>3.0000</td>\n",
       "      <td>4.000000</td>\n",
       "      <td>7.000000</td>\n",
       "      <td>8.000000</td>\n",
       "      <td>7.000000</td>\n",
       "      <td>1.000000</td>\n",
       "    </tr>\n",
       "    <tr>\n",
       "      <th>max</th>\n",
       "      <td>50000.000000</td>\n",
       "      <td>595.000000</td>\n",
       "      <td>2444.0000</td>\n",
       "      <td>3814.000000</td>\n",
       "      <td>2909.000000</td>\n",
       "      <td>3359.000000</td>\n",
       "      <td>1448.000000</td>\n",
       "      <td>1.000000</td>\n",
       "    </tr>\n",
       "  </tbody>\n",
       "</table>\n",
       "</div>"
      ],
      "text/plain": [
       "            USER_ID  TOTAL_VISIT_COUNT  TOTAL_POST_COUNT  \\\n",
       "count  50000.000000       50000.000000        50000.0000   \n",
       "mean   25000.500000          80.323280            3.2949   \n",
       "std    14433.901067          99.401578           12.3165   \n",
       "min        1.000000           1.000000            1.0000   \n",
       "25%    12500.750000          15.000000            1.0000   \n",
       "50%    25000.500000          39.000000            2.0000   \n",
       "75%    37500.250000         104.000000            3.0000   \n",
       "max    50000.000000         595.000000         2444.0000   \n",
       "\n",
       "       TOTAL_LIKES_RECEIVED  TOTAL_COMMENTS_RECEIVED  TOTAL_LIKES_GIVEN  \\\n",
       "count          50000.000000             50000.000000       32115.000000   \n",
       "mean               4.047600                 6.966360          10.091733   \n",
       "std               20.300791                19.458295          41.725648   \n",
       "min                0.000000                 0.000000           1.000000   \n",
       "25%                0.000000                 1.000000           1.000000   \n",
       "50%                1.000000                 3.000000           3.000000   \n",
       "75%                4.000000                 7.000000           8.000000   \n",
       "max             3814.000000              2909.000000        3359.000000   \n",
       "\n",
       "       TOTAL_COMMENTS_WRITTEN   CHURNED_INT  \n",
       "count            31751.000000  50000.000000  \n",
       "mean                 7.419388      0.500000  \n",
       "std                 21.283468      0.500005  \n",
       "min                  1.000000      0.000000  \n",
       "25%                  1.000000      0.000000  \n",
       "50%                  3.000000      0.500000  \n",
       "75%                  7.000000      1.000000  \n",
       "max               1448.000000      1.000000  "
      ]
     },
     "execution_count": 14,
     "metadata": {},
     "output_type": "execute_result"
    }
   ],
   "source": [
    "df.describe()"
   ]
  },
  {
   "cell_type": "code",
   "execution_count": 15,
   "id": "48e333bf-cf09-4c11-9995-76ec8d1be40e",
   "metadata": {
    "tags": []
   },
   "outputs": [
    {
     "data": {
      "text/html": [
       "<div>\n",
       "<style scoped>\n",
       "    .dataframe tbody tr th:only-of-type {\n",
       "        vertical-align: middle;\n",
       "    }\n",
       "\n",
       "    .dataframe tbody tr th {\n",
       "        vertical-align: top;\n",
       "    }\n",
       "\n",
       "    .dataframe thead th {\n",
       "        text-align: right;\n",
       "    }\n",
       "</style>\n",
       "<table border=\"1\" class=\"dataframe\">\n",
       "  <thead>\n",
       "    <tr style=\"text-align: right;\">\n",
       "      <th></th>\n",
       "      <th>USER_ID</th>\n",
       "      <th>TOTAL_VISIT_COUNT</th>\n",
       "      <th>TOTAL_POST_COUNT</th>\n",
       "      <th>TOTAL_LIKES_RECEIVED</th>\n",
       "      <th>TOTAL_COMMENTS_RECEIVED</th>\n",
       "      <th>TOTAL_LIKES_GIVEN</th>\n",
       "      <th>TOTAL_COMMENTS_WRITTEN</th>\n",
       "      <th>CHURNED_INT</th>\n",
       "    </tr>\n",
       "  </thead>\n",
       "  <tbody>\n",
       "    <tr>\n",
       "      <th>count</th>\n",
       "      <td>50000.000000</td>\n",
       "      <td>50000.000000</td>\n",
       "      <td>50000.0000</td>\n",
       "      <td>50000.000000</td>\n",
       "      <td>50000.000000</td>\n",
       "      <td>50000.00000</td>\n",
       "      <td>50000.000000</td>\n",
       "      <td>50000.000000</td>\n",
       "    </tr>\n",
       "    <tr>\n",
       "      <th>mean</th>\n",
       "      <td>25000.500000</td>\n",
       "      <td>80.323280</td>\n",
       "      <td>3.2949</td>\n",
       "      <td>4.047600</td>\n",
       "      <td>6.966360</td>\n",
       "      <td>6.48192</td>\n",
       "      <td>4.711460</td>\n",
       "      <td>0.500000</td>\n",
       "    </tr>\n",
       "    <tr>\n",
       "      <th>std</th>\n",
       "      <td>14433.901067</td>\n",
       "      <td>99.401578</td>\n",
       "      <td>12.3165</td>\n",
       "      <td>20.300791</td>\n",
       "      <td>19.458295</td>\n",
       "      <td>33.78831</td>\n",
       "      <td>17.332352</td>\n",
       "      <td>0.500005</td>\n",
       "    </tr>\n",
       "    <tr>\n",
       "      <th>min</th>\n",
       "      <td>1.000000</td>\n",
       "      <td>1.000000</td>\n",
       "      <td>1.0000</td>\n",
       "      <td>0.000000</td>\n",
       "      <td>0.000000</td>\n",
       "      <td>0.00000</td>\n",
       "      <td>0.000000</td>\n",
       "      <td>0.000000</td>\n",
       "    </tr>\n",
       "    <tr>\n",
       "      <th>25%</th>\n",
       "      <td>12500.750000</td>\n",
       "      <td>15.000000</td>\n",
       "      <td>1.0000</td>\n",
       "      <td>0.000000</td>\n",
       "      <td>1.000000</td>\n",
       "      <td>0.00000</td>\n",
       "      <td>0.000000</td>\n",
       "      <td>0.000000</td>\n",
       "    </tr>\n",
       "    <tr>\n",
       "      <th>50%</th>\n",
       "      <td>25000.500000</td>\n",
       "      <td>39.000000</td>\n",
       "      <td>2.0000</td>\n",
       "      <td>1.000000</td>\n",
       "      <td>3.000000</td>\n",
       "      <td>1.00000</td>\n",
       "      <td>1.000000</td>\n",
       "      <td>0.500000</td>\n",
       "    </tr>\n",
       "    <tr>\n",
       "      <th>75%</th>\n",
       "      <td>37500.250000</td>\n",
       "      <td>104.000000</td>\n",
       "      <td>3.0000</td>\n",
       "      <td>4.000000</td>\n",
       "      <td>7.000000</td>\n",
       "      <td>5.00000</td>\n",
       "      <td>4.000000</td>\n",
       "      <td>1.000000</td>\n",
       "    </tr>\n",
       "    <tr>\n",
       "      <th>max</th>\n",
       "      <td>50000.000000</td>\n",
       "      <td>595.000000</td>\n",
       "      <td>2444.0000</td>\n",
       "      <td>3814.000000</td>\n",
       "      <td>2909.000000</td>\n",
       "      <td>3359.00000</td>\n",
       "      <td>1448.000000</td>\n",
       "      <td>1.000000</td>\n",
       "    </tr>\n",
       "  </tbody>\n",
       "</table>\n",
       "</div>"
      ],
      "text/plain": [
       "            USER_ID  TOTAL_VISIT_COUNT  TOTAL_POST_COUNT  \\\n",
       "count  50000.000000       50000.000000        50000.0000   \n",
       "mean   25000.500000          80.323280            3.2949   \n",
       "std    14433.901067          99.401578           12.3165   \n",
       "min        1.000000           1.000000            1.0000   \n",
       "25%    12500.750000          15.000000            1.0000   \n",
       "50%    25000.500000          39.000000            2.0000   \n",
       "75%    37500.250000         104.000000            3.0000   \n",
       "max    50000.000000         595.000000         2444.0000   \n",
       "\n",
       "       TOTAL_LIKES_RECEIVED  TOTAL_COMMENTS_RECEIVED  TOTAL_LIKES_GIVEN  \\\n",
       "count          50000.000000             50000.000000        50000.00000   \n",
       "mean               4.047600                 6.966360            6.48192   \n",
       "std               20.300791                19.458295           33.78831   \n",
       "min                0.000000                 0.000000            0.00000   \n",
       "25%                0.000000                 1.000000            0.00000   \n",
       "50%                1.000000                 3.000000            1.00000   \n",
       "75%                4.000000                 7.000000            5.00000   \n",
       "max             3814.000000              2909.000000         3359.00000   \n",
       "\n",
       "       TOTAL_COMMENTS_WRITTEN   CHURNED_INT  \n",
       "count            50000.000000  50000.000000  \n",
       "mean                 4.711460      0.500000  \n",
       "std                 17.332352      0.500005  \n",
       "min                  0.000000      0.000000  \n",
       "25%                  0.000000      0.000000  \n",
       "50%                  1.000000      0.500000  \n",
       "75%                  4.000000      1.000000  \n",
       "max               1448.000000      1.000000  "
      ]
     },
     "execution_count": 15,
     "metadata": {},
     "output_type": "execute_result"
    }
   ],
   "source": [
    "# I will replace the missing numerical values for zero.\n",
    "df.fillna({'TOTAL_LIKES_GIVEN':0,'TOTAL_COMMENTS_WRITTEN':0}, inplace=True)\n",
    "df.describe()"
   ]
  },
  {
   "cell_type": "code",
   "execution_count": 16,
   "id": "1a47fecc-a7ef-418e-a951-a925fd9e15a4",
   "metadata": {
    "tags": []
   },
   "outputs": [
    {
     "data": {
      "text/plain": [
       "USER_ID                         0\n",
       "REGISTRATION_AT                 0\n",
       "TOTAL_VISIT_COUNT               0\n",
       "LAST_VISIT_AT                   0\n",
       "TOTAL_POST_COUNT                0\n",
       "LAST_POST_AT                    0\n",
       "TOTAL_LIKES_RECEIVED            0\n",
       "LAST_LIKE_RECEIVED_AT       18472\n",
       "TOTAL_COMMENTS_RECEIVED         0\n",
       "LAST_COMMENT_RECEIVED_AT    11996\n",
       "TOTAL_LIKES_GIVEN               0\n",
       "LAST_LIKE_GIVEN_AT          17885\n",
       "TOTAL_COMMENTS_WRITTEN          0\n",
       "LAST_COMMENT_WRITTEN_AT     18249\n",
       "CHURNED                         0\n",
       "CHURNED_INT                     0\n",
       "dtype: int64"
      ]
     },
     "execution_count": 16,
     "metadata": {},
     "output_type": "execute_result"
    }
   ],
   "source": [
    "# Confirming only timestamp columns have missing values\n",
    "df.isnull().sum()"
   ]
  },
  {
   "cell_type": "markdown",
   "id": "b0ae4671-3ac3-4a8d-9e5f-36e588fc6da9",
   "metadata": {
    "tags": []
   },
   "source": [
    "## 1.5 Checking consistency\n",
    "\n",
    "- No context was provided regarding the data extration and data preparation.\n",
    "- As a way to understand what i have to work with, I tried to check for the logic behind the sample and the variables provided.\n",
    "\n",
    "  - REGISTRATION_AT has minimum value 2022-03-01 03:48:20.679066+00:00 and maximum value 2023-02-27 23:43:51.926169+00:00\n",
    "  - LAST activities have  all the same minimum value: 2022-03-01 and only two options of maximum value, 2023-10-31 or 2023-10-30\n",
    "  - LAST_VISIT_AT for churned users is 2023-08-30\n",
    "  - LAST_VISIT_AT for for non-churned users is 2023-10-31\n",
    "  \n",
    "Given the data above, I raised the hypothesis that the dataset was created on October 31st, 2023. I got confirmation from your team after asking via email.\n",
    "\n",
    "### Why is this an issue for creating a predictive model?\n",
    "\n",
    "- We are trying to predict something that has already happened. Being in this situation, we have two options:\n",
    "A) Do not use the information from LAST_VISIT_AT as predictive variable, since this is the definition of the target of prediction.\n",
    "B) Use the information and have a model that is perfect, since it has the data used to generate the flag itself. This is not predicting but simply calculating. "
   ]
  },
  {
   "cell_type": "code",
   "execution_count": 22,
   "id": "88351f62-edea-48d0-939c-31ae89dbe022",
   "metadata": {
    "tags": []
   },
   "outputs": [
    {
     "data": {
      "text/plain": [
       "CHURNED\n",
       "False   2023-10-31 00:00:00+00:00\n",
       "True    2023-08-30 00:00:00+00:00\n",
       "Name: LAST_VISIT_AT, dtype: datetime64[ns, UTC]"
      ]
     },
     "execution_count": 22,
     "metadata": {},
     "output_type": "execute_result"
    }
   ],
   "source": [
    "df.groupby('CHURNED').LAST_VISIT_AT.max()"
   ]
  },
  {
   "cell_type": "code",
   "execution_count": null,
   "id": "25a74de5-ea66-4a6c-96d0-3477762043de",
   "metadata": {},
   "outputs": [
    {
     "data": {
      "text/html": [
       "<div>\n",
       "<style scoped>\n",
       "    .dataframe tbody tr th:only-of-type {\n",
       "        vertical-align: middle;\n",
       "    }\n",
       "\n",
       "    .dataframe tbody tr th {\n",
       "        vertical-align: top;\n",
       "    }\n",
       "\n",
       "    .dataframe thead th {\n",
       "        text-align: right;\n",
       "    }\n",
       "</style>\n",
       "<table border=\"1\" class=\"dataframe\">\n",
       "  <thead>\n",
       "    <tr style=\"text-align: right;\">\n",
       "      <th></th>\n",
       "      <th>LAST_VISIT_AT</th>\n",
       "      <th>LAST_POST_AT</th>\n",
       "      <th>LAST_LIKE_RECEIVED_AT</th>\n",
       "      <th>LAST_COMMENT_RECEIVED_AT</th>\n",
       "      <th>LAST_LIKE_GIVEN_AT</th>\n",
       "      <th>LAST_COMMENT_WRITTEN_AT</th>\n",
       "    </tr>\n",
       "  </thead>\n",
       "  <tbody>\n",
       "    <tr>\n",
       "      <th>count</th>\n",
       "      <td>50000</td>\n",
       "      <td>50000</td>\n",
       "      <td>31528</td>\n",
       "      <td>38004</td>\n",
       "      <td>32115</td>\n",
       "      <td>31751</td>\n",
       "    </tr>\n",
       "    <tr>\n",
       "      <th>mean</th>\n",
       "      <td>2023-06-20 14:00:59.327999744+00:00</td>\n",
       "      <td>2023-01-30 06:53:29.914753536+00:00</td>\n",
       "      <td>2023-01-30 19:24:53.159370752+00:00</td>\n",
       "      <td>2023-02-02 01:06:13.896481792+00:00</td>\n",
       "      <td>2023-02-25 01:34:23.202323200+00:00</td>\n",
       "      <td>2023-02-26 16:37:09.661687552+00:00</td>\n",
       "    </tr>\n",
       "    <tr>\n",
       "      <th>min</th>\n",
       "      <td>2022-03-01 00:00:00+00:00</td>\n",
       "      <td>2022-03-01 10:32:47.916889+00:00</td>\n",
       "      <td>2022-03-01 17:52:48.280949+00:00</td>\n",
       "      <td>2022-03-01 18:13:21.238020+00:00</td>\n",
       "      <td>2022-03-01 09:53:13.675580+00:00</td>\n",
       "      <td>2022-03-01 09:53:55.493177+00:00</td>\n",
       "    </tr>\n",
       "    <tr>\n",
       "      <th>25%</th>\n",
       "      <td>2023-03-14 00:00:00+00:00</td>\n",
       "      <td>2022-09-13 20:44:15.529921024+00:00</td>\n",
       "      <td>2022-09-18 08:17:10.485202944+00:00</td>\n",
       "      <td>2022-09-18 14:08:43.034666240+00:00</td>\n",
       "      <td>2022-10-06 11:43:36.851657984+00:00</td>\n",
       "      <td>2022-10-07 16:47:07.857139968+00:00</td>\n",
       "    </tr>\n",
       "    <tr>\n",
       "      <th>50%</th>\n",
       "      <td>2023-08-30 12:00:00+00:00</td>\n",
       "      <td>2023-01-29 18:39:01.558031616+00:00</td>\n",
       "      <td>2023-02-01 16:01:36.349075456+00:00</td>\n",
       "      <td>2023-02-04 13:27:01.378778880+00:00</td>\n",
       "      <td>2023-03-02 19:14:26.346758912+00:00</td>\n",
       "      <td>2023-03-05 09:18:32.352211968+00:00</td>\n",
       "    </tr>\n",
       "    <tr>\n",
       "      <th>75%</th>\n",
       "      <td>2023-10-26 00:00:00+00:00</td>\n",
       "      <td>2023-06-29 12:21:33.053118208+00:00</td>\n",
       "      <td>2023-06-23 08:51:47.227882240+00:00</td>\n",
       "      <td>2023-06-27 17:40:42.218240512+00:00</td>\n",
       "      <td>2023-07-31 13:15:46.665724416+00:00</td>\n",
       "      <td>2023-08-01 19:38:51.662457088+00:00</td>\n",
       "    </tr>\n",
       "    <tr>\n",
       "      <th>max</th>\n",
       "      <td>2023-10-31 00:00:00+00:00</td>\n",
       "      <td>2023-10-30 23:24:12.856179+00:00</td>\n",
       "      <td>2023-10-31 00:21:30.896648+00:00</td>\n",
       "      <td>2023-10-31 00:13:57.081790+00:00</td>\n",
       "      <td>2023-10-30 23:48:14.598640+00:00</td>\n",
       "      <td>2023-10-31 00:07:37.547368+00:00</td>\n",
       "    </tr>\n",
       "  </tbody>\n",
       "</table>\n",
       "</div>"
      ],
      "text/plain": [
       "                             LAST_VISIT_AT  \\\n",
       "count                                50000   \n",
       "mean   2023-06-20 14:00:59.327999744+00:00   \n",
       "min              2022-03-01 00:00:00+00:00   \n",
       "25%              2023-03-14 00:00:00+00:00   \n",
       "50%              2023-08-30 12:00:00+00:00   \n",
       "75%              2023-10-26 00:00:00+00:00   \n",
       "max              2023-10-31 00:00:00+00:00   \n",
       "\n",
       "                              LAST_POST_AT  \\\n",
       "count                                50000   \n",
       "mean   2023-01-30 06:53:29.914753536+00:00   \n",
       "min       2022-03-01 10:32:47.916889+00:00   \n",
       "25%    2022-09-13 20:44:15.529921024+00:00   \n",
       "50%    2023-01-29 18:39:01.558031616+00:00   \n",
       "75%    2023-06-29 12:21:33.053118208+00:00   \n",
       "max       2023-10-30 23:24:12.856179+00:00   \n",
       "\n",
       "                     LAST_LIKE_RECEIVED_AT  \\\n",
       "count                                31528   \n",
       "mean   2023-01-30 19:24:53.159370752+00:00   \n",
       "min       2022-03-01 17:52:48.280949+00:00   \n",
       "25%    2022-09-18 08:17:10.485202944+00:00   \n",
       "50%    2023-02-01 16:01:36.349075456+00:00   \n",
       "75%    2023-06-23 08:51:47.227882240+00:00   \n",
       "max       2023-10-31 00:21:30.896648+00:00   \n",
       "\n",
       "                  LAST_COMMENT_RECEIVED_AT  \\\n",
       "count                                38004   \n",
       "mean   2023-02-02 01:06:13.896481792+00:00   \n",
       "min       2022-03-01 18:13:21.238020+00:00   \n",
       "25%    2022-09-18 14:08:43.034666240+00:00   \n",
       "50%    2023-02-04 13:27:01.378778880+00:00   \n",
       "75%    2023-06-27 17:40:42.218240512+00:00   \n",
       "max       2023-10-31 00:13:57.081790+00:00   \n",
       "\n",
       "                        LAST_LIKE_GIVEN_AT  \\\n",
       "count                                32115   \n",
       "mean   2023-02-25 01:34:23.202323200+00:00   \n",
       "min       2022-03-01 09:53:13.675580+00:00   \n",
       "25%    2022-10-06 11:43:36.851657984+00:00   \n",
       "50%    2023-03-02 19:14:26.346758912+00:00   \n",
       "75%    2023-07-31 13:15:46.665724416+00:00   \n",
       "max       2023-10-30 23:48:14.598640+00:00   \n",
       "\n",
       "                   LAST_COMMENT_WRITTEN_AT  \n",
       "count                                31751  \n",
       "mean   2023-02-26 16:37:09.661687552+00:00  \n",
       "min       2022-03-01 09:53:55.493177+00:00  \n",
       "25%    2022-10-07 16:47:07.857139968+00:00  \n",
       "50%    2023-03-05 09:18:32.352211968+00:00  \n",
       "75%    2023-08-01 19:38:51.662457088+00:00  \n",
       "max       2023-10-31 00:07:37.547368+00:00  "
      ]
     },
     "execution_count": 20,
     "metadata": {},
     "output_type": "execute_result"
    }
   ],
   "source": [
    "df[timestamp_column_names].describe(datetime_is_numeric=True)"
   ]
  },
  {
   "cell_type": "code",
   "execution_count": 22,
   "id": "d0443394",
   "metadata": {
    "tags": []
   },
   "outputs": [
    {
     "data": {
      "text/plain": [
       "CHURNED\n",
       "False   2023-10-31 00:00:00+00:00\n",
       "True    2023-08-30 00:00:00+00:00\n",
       "Name: LAST_VISIT_AT, dtype: datetime64[ns, UTC]"
      ]
     },
     "execution_count": 22,
     "metadata": {},
     "output_type": "execute_result"
    }
   ],
   "source": [
    "df.groupby('CHURNED').LAST_VISIT_AT.max()"
   ]
  },
  {
   "cell_type": "markdown",
   "id": "051e27e9-1b9b-463d-a1bb-931f52d0509c",
   "metadata": {
    "jp-MarkdownHeadingCollapsed": true,
    "tags": []
   },
   "source": [
    "# 2. Feature engineering"
   ]
  },
  {
   "cell_type": "markdown",
   "id": "c40f29fa-05aa-41d7-b952-d8fd872768fb",
   "metadata": {
    "tags": []
   },
   "source": [
    "Creating numerical variables for the timestamps in the format \"DAYS_SINCE_LAST_(...)\" considering the date reference, that is, the date when the dataset was created (31 October, 2023).\n",
    "\n",
    "In case the value is missing, I assume that the user has never performed the action, e.g. like. For those cases, we will assign the value -1, which will be the only negative value existent for this variable. This way, we will know that if the value is negative, it means the user never perform the action."
   ]
  },
  {
   "cell_type": "code",
   "execution_count": 26,
   "id": "525c84a4-5d11-4a85-834d-dd1a589ec419",
   "metadata": {
    "tags": []
   },
   "outputs": [
    {
     "data": {
      "text/plain": [
       "Timestamp('2023-10-31 00:00:00+0000', tz='UTC')"
      ]
     },
     "execution_count": 26,
     "metadata": {},
     "output_type": "execute_result"
    }
   ],
   "source": [
    "reference_date = df.LAST_VISIT_AT.max()\n",
    "reference_date"
   ]
  },
  {
   "cell_type": "code",
   "execution_count": 27,
   "id": "c5ac2000-adbf-4ef7-8f5c-350e82297676",
   "metadata": {
    "tags": []
   },
   "outputs": [
    {
     "data": {
      "text/plain": [
       "['LAST_VISIT_AT',\n",
       " 'LAST_POST_AT',\n",
       " 'LAST_LIKE_RECEIVED_AT',\n",
       " 'LAST_COMMENT_RECEIVED_AT',\n",
       " 'LAST_LIKE_GIVEN_AT',\n",
       " 'LAST_COMMENT_WRITTEN_AT']"
      ]
     },
     "execution_count": 27,
     "metadata": {},
     "output_type": "execute_result"
    }
   ],
   "source": [
    "timestamp_column_names"
   ]
  },
  {
   "cell_type": "code",
   "execution_count": 28,
   "id": "5be019b9-71f3-4c75-ae72-4ed730727dda",
   "metadata": {
    "tags": []
   },
   "outputs": [
    {
     "data": {
      "text/html": [
       "<div>\n",
       "<style scoped>\n",
       "    .dataframe tbody tr th:only-of-type {\n",
       "        vertical-align: middle;\n",
       "    }\n",
       "\n",
       "    .dataframe tbody tr th {\n",
       "        vertical-align: top;\n",
       "    }\n",
       "\n",
       "    .dataframe thead th {\n",
       "        text-align: right;\n",
       "    }\n",
       "</style>\n",
       "<table border=\"1\" class=\"dataframe\">\n",
       "  <thead>\n",
       "    <tr style=\"text-align: right;\">\n",
       "      <th></th>\n",
       "      <th>USER_ID</th>\n",
       "      <th>TOTAL_VISIT_COUNT</th>\n",
       "      <th>TOTAL_POST_COUNT</th>\n",
       "      <th>TOTAL_LIKES_RECEIVED</th>\n",
       "      <th>TOTAL_COMMENTS_RECEIVED</th>\n",
       "      <th>TOTAL_LIKES_GIVEN</th>\n",
       "      <th>TOTAL_COMMENTS_WRITTEN</th>\n",
       "      <th>CHURNED_INT</th>\n",
       "      <th>DAYS_SINCE_LAST_VISIT</th>\n",
       "      <th>DAYS_SINCE_LAST_POST</th>\n",
       "      <th>DAYS_SINCE_LAST_LIKE_RECEIVED</th>\n",
       "      <th>DAYS_SINCE_LAST_COMMENT_RECEIVED</th>\n",
       "      <th>DAYS_SINCE_LAST_LIKE_GIVEN</th>\n",
       "      <th>DAYS_SINCE_LAST_COMMENT_WRITTEN</th>\n",
       "    </tr>\n",
       "  </thead>\n",
       "  <tbody>\n",
       "    <tr>\n",
       "      <th>count</th>\n",
       "      <td>50000.000000</td>\n",
       "      <td>50000.000000</td>\n",
       "      <td>50000.0000</td>\n",
       "      <td>50000.000000</td>\n",
       "      <td>50000.000000</td>\n",
       "      <td>50000.00000</td>\n",
       "      <td>50000.000000</td>\n",
       "      <td>50000.000000</td>\n",
       "      <td>50000.000000</td>\n",
       "      <td>50000.000000</td>\n",
       "      <td>50000.000000</td>\n",
       "      <td>50000.000000</td>\n",
       "      <td>50000.000000</td>\n",
       "      <td>50000.000000</td>\n",
       "    </tr>\n",
       "    <tr>\n",
       "      <th>mean</th>\n",
       "      <td>25000.500000</td>\n",
       "      <td>80.323280</td>\n",
       "      <td>3.2949</td>\n",
       "      <td>4.047600</td>\n",
       "      <td>6.966360</td>\n",
       "      <td>6.48192</td>\n",
       "      <td>4.711460</td>\n",
       "      <td>0.500000</td>\n",
       "      <td>132.415980</td>\n",
       "      <td>273.281480</td>\n",
       "      <td>171.624880</td>\n",
       "      <td>205.378220</td>\n",
       "      <td>158.617580</td>\n",
       "      <td>155.773140</td>\n",
       "    </tr>\n",
       "    <tr>\n",
       "      <th>std</th>\n",
       "      <td>14433.901067</td>\n",
       "      <td>99.401578</td>\n",
       "      <td>12.3165</td>\n",
       "      <td>20.300791</td>\n",
       "      <td>19.458295</td>\n",
       "      <td>33.78831</td>\n",
       "      <td>17.332352</td>\n",
       "      <td>0.500005</td>\n",
       "      <td>153.903945</td>\n",
       "      <td>168.714348</td>\n",
       "      <td>185.851063</td>\n",
       "      <td>185.608978</td>\n",
       "      <td>181.409884</td>\n",
       "      <td>180.332539</td>\n",
       "    </tr>\n",
       "    <tr>\n",
       "      <th>min</th>\n",
       "      <td>1.000000</td>\n",
       "      <td>1.000000</td>\n",
       "      <td>1.0000</td>\n",
       "      <td>0.000000</td>\n",
       "      <td>0.000000</td>\n",
       "      <td>0.00000</td>\n",
       "      <td>0.000000</td>\n",
       "      <td>0.000000</td>\n",
       "      <td>0.000000</td>\n",
       "      <td>0.000000</td>\n",
       "      <td>-1.000000</td>\n",
       "      <td>-1.000000</td>\n",
       "      <td>-1.000000</td>\n",
       "      <td>-1.000000</td>\n",
       "    </tr>\n",
       "    <tr>\n",
       "      <th>25%</th>\n",
       "      <td>12500.750000</td>\n",
       "      <td>15.000000</td>\n",
       "      <td>1.0000</td>\n",
       "      <td>0.000000</td>\n",
       "      <td>1.000000</td>\n",
       "      <td>0.00000</td>\n",
       "      <td>0.000000</td>\n",
       "      <td>0.000000</td>\n",
       "      <td>5.000000</td>\n",
       "      <td>123.000000</td>\n",
       "      <td>-1.000000</td>\n",
       "      <td>3.000000</td>\n",
       "      <td>-1.000000</td>\n",
       "      <td>-1.000000</td>\n",
       "    </tr>\n",
       "    <tr>\n",
       "      <th>50%</th>\n",
       "      <td>25000.500000</td>\n",
       "      <td>39.000000</td>\n",
       "      <td>2.0000</td>\n",
       "      <td>1.000000</td>\n",
       "      <td>3.000000</td>\n",
       "      <td>1.00000</td>\n",
       "      <td>1.000000</td>\n",
       "      <td>0.500000</td>\n",
       "      <td>61.500000</td>\n",
       "      <td>274.000000</td>\n",
       "      <td>105.000000</td>\n",
       "      <td>180.000000</td>\n",
       "      <td>75.000000</td>\n",
       "      <td>71.000000</td>\n",
       "    </tr>\n",
       "    <tr>\n",
       "      <th>75%</th>\n",
       "      <td>37500.250000</td>\n",
       "      <td>104.000000</td>\n",
       "      <td>3.0000</td>\n",
       "      <td>4.000000</td>\n",
       "      <td>7.000000</td>\n",
       "      <td>5.00000</td>\n",
       "      <td>4.000000</td>\n",
       "      <td>1.000000</td>\n",
       "      <td>231.000000</td>\n",
       "      <td>412.000000</td>\n",
       "      <td>328.000000</td>\n",
       "      <td>364.000000</td>\n",
       "      <td>300.000000</td>\n",
       "      <td>294.000000</td>\n",
       "    </tr>\n",
       "    <tr>\n",
       "      <th>max</th>\n",
       "      <td>50000.000000</td>\n",
       "      <td>595.000000</td>\n",
       "      <td>2444.0000</td>\n",
       "      <td>3814.000000</td>\n",
       "      <td>2909.000000</td>\n",
       "      <td>3359.00000</td>\n",
       "      <td>1448.000000</td>\n",
       "      <td>1.000000</td>\n",
       "      <td>609.000000</td>\n",
       "      <td>608.000000</td>\n",
       "      <td>608.000000</td>\n",
       "      <td>608.000000</td>\n",
       "      <td>608.000000</td>\n",
       "      <td>608.000000</td>\n",
       "    </tr>\n",
       "  </tbody>\n",
       "</table>\n",
       "</div>"
      ],
      "text/plain": [
       "            USER_ID  TOTAL_VISIT_COUNT  TOTAL_POST_COUNT  \\\n",
       "count  50000.000000       50000.000000        50000.0000   \n",
       "mean   25000.500000          80.323280            3.2949   \n",
       "std    14433.901067          99.401578           12.3165   \n",
       "min        1.000000           1.000000            1.0000   \n",
       "25%    12500.750000          15.000000            1.0000   \n",
       "50%    25000.500000          39.000000            2.0000   \n",
       "75%    37500.250000         104.000000            3.0000   \n",
       "max    50000.000000         595.000000         2444.0000   \n",
       "\n",
       "       TOTAL_LIKES_RECEIVED  TOTAL_COMMENTS_RECEIVED  TOTAL_LIKES_GIVEN  \\\n",
       "count          50000.000000             50000.000000        50000.00000   \n",
       "mean               4.047600                 6.966360            6.48192   \n",
       "std               20.300791                19.458295           33.78831   \n",
       "min                0.000000                 0.000000            0.00000   \n",
       "25%                0.000000                 1.000000            0.00000   \n",
       "50%                1.000000                 3.000000            1.00000   \n",
       "75%                4.000000                 7.000000            5.00000   \n",
       "max             3814.000000              2909.000000         3359.00000   \n",
       "\n",
       "       TOTAL_COMMENTS_WRITTEN   CHURNED_INT  DAYS_SINCE_LAST_VISIT  \\\n",
       "count            50000.000000  50000.000000           50000.000000   \n",
       "mean                 4.711460      0.500000             132.415980   \n",
       "std                 17.332352      0.500005             153.903945   \n",
       "min                  0.000000      0.000000               0.000000   \n",
       "25%                  0.000000      0.000000               5.000000   \n",
       "50%                  1.000000      0.500000              61.500000   \n",
       "75%                  4.000000      1.000000             231.000000   \n",
       "max               1448.000000      1.000000             609.000000   \n",
       "\n",
       "       DAYS_SINCE_LAST_POST  DAYS_SINCE_LAST_LIKE_RECEIVED  \\\n",
       "count          50000.000000                   50000.000000   \n",
       "mean             273.281480                     171.624880   \n",
       "std              168.714348                     185.851063   \n",
       "min                0.000000                      -1.000000   \n",
       "25%              123.000000                      -1.000000   \n",
       "50%              274.000000                     105.000000   \n",
       "75%              412.000000                     328.000000   \n",
       "max              608.000000                     608.000000   \n",
       "\n",
       "       DAYS_SINCE_LAST_COMMENT_RECEIVED  DAYS_SINCE_LAST_LIKE_GIVEN  \\\n",
       "count                      50000.000000                50000.000000   \n",
       "mean                         205.378220                  158.617580   \n",
       "std                          185.608978                  181.409884   \n",
       "min                           -1.000000                   -1.000000   \n",
       "25%                            3.000000                   -1.000000   \n",
       "50%                          180.000000                   75.000000   \n",
       "75%                          364.000000                  300.000000   \n",
       "max                          608.000000                  608.000000   \n",
       "\n",
       "       DAYS_SINCE_LAST_COMMENT_WRITTEN  \n",
       "count                     50000.000000  \n",
       "mean                        155.773140  \n",
       "std                         180.332539  \n",
       "min                          -1.000000  \n",
       "25%                          -1.000000  \n",
       "50%                          71.000000  \n",
       "75%                         294.000000  \n",
       "max                         608.000000  "
      ]
     },
     "execution_count": 28,
     "metadata": {},
     "output_type": "execute_result"
    }
   ],
   "source": [
    "for col in timestamp_column_names:\n",
    "    new_col = ('DAYS_SINCE_'+col)[:-3]\n",
    "    df[new_col] = (reference_date - df[col]).dt.days.fillna(-1).astype(int)\n",
    "\n",
    "df.describe()"
   ]
  },
  {
   "cell_type": "markdown",
   "id": "2a936dd5-d028-424f-899d-0589c2fc6e6f",
   "metadata": {
    "jp-MarkdownHeadingCollapsed": true,
    "tags": []
   },
   "source": [
    "# 3. Exploratory analysis"
   ]
  },
  {
   "cell_type": "markdown",
   "id": "79271d2a-942b-4ffb-845b-5548adc20558",
   "metadata": {
    "jp-MarkdownHeadingCollapsed": true,
    "tags": []
   },
   "source": [
    "## 3.1. Distribution of users by churn status"
   ]
  },
  {
   "cell_type": "code",
   "execution_count": 19,
   "id": "a6982186-b151-4280-844c-73b5f9bd874f",
   "metadata": {
    "tags": []
   },
   "outputs": [
    {
     "data": {
      "image/png": "[encoded data removed]",
      "text/plain": [
       "<Figure size 640x480 with 1 Axes>"
      ]
     },
     "metadata": {},
     "output_type": "display_data"
    }
   ],
   "source": [
    "# pie plot churn vs. amount of users\n",
    "df.groupby('CHURNED')['USER_ID'].nunique().plot(kind='pie', autopct='%0.01f%%');"
   ]
  },
  {
   "cell_type": "code",
   "execution_count": 20,
   "id": "55740e64-7ecf-4a11-9ce7-8978beb869c9",
   "metadata": {
    "tags": []
   },
   "outputs": [
    {
     "data": {
      "text/plain": [
       "CHURNED\n",
       "False    25000\n",
       "True     25000\n",
       "Name: USER_ID, dtype: int64"
      ]
     },
     "execution_count": 20,
     "metadata": {},
     "output_type": "execute_result"
    }
   ],
   "source": [
    "# Balanced dataset\n",
    "df.groupby('CHURNED')['USER_ID'].nunique()"
   ]
  },
  {
   "cell_type": "markdown",
   "id": "d7bb4c01-aadc-483c-babc-161ce7c87a53",
   "metadata": {
    "jp-MarkdownHeadingCollapsed": true,
    "tags": []
   },
   "source": [
    "## 3.2. Correlation between numerical variables, including the churn variable"
   ]
  },
  {
   "cell_type": "code",
   "execution_count": 21,
   "id": "07b310eb-8027-472e-8c82-45daf06819a2",
   "metadata": {
    "tags": []
   },
   "outputs": [
    {
     "data": {
      "text/html": [
       "<div>\n",
       "<style scoped>\n",
       "    .dataframe tbody tr th:only-of-type {\n",
       "        vertical-align: middle;\n",
       "    }\n",
       "\n",
       "    .dataframe tbody tr th {\n",
       "        vertical-align: top;\n",
       "    }\n",
       "\n",
       "    .dataframe thead th {\n",
       "        text-align: right;\n",
       "    }\n",
       "</style>\n",
       "<table border=\"1\" class=\"dataframe\">\n",
       "  <thead>\n",
       "    <tr style=\"text-align: right;\">\n",
       "      <th></th>\n",
       "      <th>TOTAL_VISIT_COUNT</th>\n",
       "      <th>TOTAL_POST_COUNT</th>\n",
       "      <th>TOTAL_LIKES_RECEIVED</th>\n",
       "      <th>TOTAL_COMMENTS_RECEIVED</th>\n",
       "      <th>TOTAL_LIKES_GIVEN</th>\n",
       "      <th>TOTAL_COMMENTS_WRITTEN</th>\n",
       "      <th>CHURNED_INT</th>\n",
       "      <th>DAYS_SINCE_LAST_VISIT</th>\n",
       "      <th>DAYS_SINCE_LAST_POST</th>\n",
       "      <th>DAYS_SINCE_LAST_LIKE_RECEIVED</th>\n",
       "      <th>DAYS_SINCE_LAST_COMMENT_RECEIVED</th>\n",
       "      <th>DAYS_SINCE_LAST_LIKE_GIVEN</th>\n",
       "      <th>DAYS_SINCE_LAST_COMMENT_WRITTEN</th>\n",
       "    </tr>\n",
       "  </thead>\n",
       "  <tbody>\n",
       "    <tr>\n",
       "      <th>0</th>\n",
       "      <td>22</td>\n",
       "      <td>1</td>\n",
       "      <td>0</td>\n",
       "      <td>0</td>\n",
       "      <td>0.0</td>\n",
       "      <td>0.0</td>\n",
       "      <td>1</td>\n",
       "      <td>141</td>\n",
       "      <td>600</td>\n",
       "      <td>-1</td>\n",
       "      <td>-1</td>\n",
       "      <td>-1</td>\n",
       "      <td>-1</td>\n",
       "    </tr>\n",
       "    <tr>\n",
       "      <th>1</th>\n",
       "      <td>148</td>\n",
       "      <td>3</td>\n",
       "      <td>1</td>\n",
       "      <td>0</td>\n",
       "      <td>4.0</td>\n",
       "      <td>5.0</td>\n",
       "      <td>0</td>\n",
       "      <td>2</td>\n",
       "      <td>106</td>\n",
       "      <td>106</td>\n",
       "      <td>-1</td>\n",
       "      <td>106</td>\n",
       "      <td>8</td>\n",
       "    </tr>\n",
       "    <tr>\n",
       "      <th>2</th>\n",
       "      <td>202</td>\n",
       "      <td>2</td>\n",
       "      <td>2</td>\n",
       "      <td>1</td>\n",
       "      <td>3.0</td>\n",
       "      <td>11.0</td>\n",
       "      <td>0</td>\n",
       "      <td>6</td>\n",
       "      <td>546</td>\n",
       "      <td>174</td>\n",
       "      <td>545</td>\n",
       "      <td>485</td>\n",
       "      <td>71</td>\n",
       "    </tr>\n",
       "    <tr>\n",
       "      <th>3</th>\n",
       "      <td>274</td>\n",
       "      <td>2</td>\n",
       "      <td>7</td>\n",
       "      <td>8</td>\n",
       "      <td>1.0</td>\n",
       "      <td>7.0</td>\n",
       "      <td>0</td>\n",
       "      <td>1</td>\n",
       "      <td>347</td>\n",
       "      <td>344</td>\n",
       "      <td>334</td>\n",
       "      <td>410</td>\n",
       "      <td>34</td>\n",
       "    </tr>\n",
       "    <tr>\n",
       "      <th>4</th>\n",
       "      <td>46</td>\n",
       "      <td>4</td>\n",
       "      <td>0</td>\n",
       "      <td>6</td>\n",
       "      <td>0.0</td>\n",
       "      <td>4.0</td>\n",
       "      <td>1</td>\n",
       "      <td>62</td>\n",
       "      <td>207</td>\n",
       "      <td>-1</td>\n",
       "      <td>207</td>\n",
       "      <td>-1</td>\n",
       "      <td>96</td>\n",
       "    </tr>\n",
       "  </tbody>\n",
       "</table>\n",
       "</div>"
      ],
      "text/plain": [
       "   TOTAL_VISIT_COUNT  TOTAL_POST_COUNT  TOTAL_LIKES_RECEIVED  \\\n",
       "0                 22                 1                     0   \n",
       "1                148                 3                     1   \n",
       "2                202                 2                     2   \n",
       "3                274                 2                     7   \n",
       "4                 46                 4                     0   \n",
       "\n",
       "   TOTAL_COMMENTS_RECEIVED  TOTAL_LIKES_GIVEN  TOTAL_COMMENTS_WRITTEN  \\\n",
       "0                        0                0.0                     0.0   \n",
       "1                        0                4.0                     5.0   \n",
       "2                        1                3.0                    11.0   \n",
       "3                        8                1.0                     7.0   \n",
       "4                        6                0.0                     4.0   \n",
       "\n",
       "   CHURNED_INT  DAYS_SINCE_LAST_VISIT  DAYS_SINCE_LAST_POST  \\\n",
       "0            1                    141                   600   \n",
       "1            0                      2                   106   \n",
       "2            0                      6                   546   \n",
       "3            0                      1                   347   \n",
       "4            1                     62                   207   \n",
       "\n",
       "   DAYS_SINCE_LAST_LIKE_RECEIVED  DAYS_SINCE_LAST_COMMENT_RECEIVED  \\\n",
       "0                             -1                                -1   \n",
       "1                            106                                -1   \n",
       "2                            174                               545   \n",
       "3                            344                               334   \n",
       "4                             -1                               207   \n",
       "\n",
       "   DAYS_SINCE_LAST_LIKE_GIVEN  DAYS_SINCE_LAST_COMMENT_WRITTEN  \n",
       "0                          -1                               -1  \n",
       "1                         106                                8  \n",
       "2                         485                               71  \n",
       "3                         410                               34  \n",
       "4                          -1                               96  "
      ]
     },
     "execution_count": 21,
     "metadata": {},
     "output_type": "execute_result"
    }
   ],
   "source": [
    "# Getting only the numerical variables, exclude USER_ID column\n",
    "df_numerical = df.select_dtypes(include='number')\n",
    "df_numerical.drop(['USER_ID'], axis='columns', inplace=True)\n",
    "df_numerical.head()"
   ]
  },
  {
   "cell_type": "code",
   "execution_count": 22,
   "id": "f2095501-fa1a-48ff-8dce-683986792616",
   "metadata": {
    "tags": []
   },
   "outputs": [
    {
     "data": {
      "image/png": "[encoded data removed]",
      "text/plain": [
       "<Figure size 1500x500 with 2 Axes>"
      ]
     },
     "metadata": {},
     "output_type": "display_data"
    }
   ],
   "source": [
    "# Create a subplot with matplotlib\n",
    "f, ax = plt.subplots(figsize=(15,5))\n",
    "\n",
    "# Create the correlation heatmap in seaborn.\n",
    "corr = sns.heatmap(df_numerical.corr(), annot = True, ax = ax).set(title = 'Correlation matrix') "
   ]
  },
  {
   "cell_type": "markdown",
   "id": "39436642-18e6-4ec2-a7b9-14627dd3251b",
   "metadata": {},
   "source": [
    "#### Considering the follwing intervals of the absolute value of the correlation coefficient:\n",
    "\n",
    "0–0.3: negligible correlation\n",
    "\n",
    "0.3–0.5: weak relationship\n",
    "\n",
    "0.5–0.7: moderate relationship\n",
    "\n",
    "0.7–1.0: strong relationship\n",
    "\n",
    "\n",
    "**Reminder: Correlation does not imply causation.** Correlation between two variables indicates that changes in one variable are associated with changes in the other variable. In this case, we are calculating only the linear correlation, which indicates if any linear changes in one variable affect another.\n",
    "\n",
    "### The correlation matrix shows a few interesting relationships between the variables of user activity, such as:\n",
    "\n",
    "- There is a *strong positive (>0.8)* relationship between TOTAL_POST_COUNT, TOTAL_LIKES_RECEIVED, TOTAL_COMMENTS_RECEIVED: It makes sense, since a like or comment can only exist for a post\n",
    "\n",
    "- There is a *strong to moderate positive (0.68)* relationship between TOTAL_COMMENTS_WRITTEN and TOTAL_COMMENTS_RECEIVED: This can be interpreted as a strong sign of user building relationships in the platform. The more the user comments on posts of others, more the others comment on their post.\n",
    "\n",
    "- There is a *moderate positive (>0.5)* relationship between TOTAL_COMMENTS_WRITTEN and TOTAL_POST_COUNT, and TOTAL_COMMENTS_WRITTEN and TOTAL_LIKES_RECEIVED: This can be interpreted as a moderate sign of user with a relevant level of activity. The user actively posts and comments on post of others, more others like their posts.\n",
    "\n",
    "- There is a *weak positive (>0.3)* relationship between TOTAL_LIKES_GIVEN and TOTAL_COMMENTS_RECEIVED, and TOTAL_LIKES_GIVEN and TOTAL_LIKES_RECEIVED: This can be interpreted as a weak sign of user building relationships in the platform. The more the user likes posts of others, more the others like and comment on their post.\n",
    "\n",
    "- There is a *weak positive (0.35) relationship between TOTAL_VISIT_COUNT and TOTAL_COMMENTS_WRITTEN: This can be interpreted as a weak sign of user visiting the platform only to comment on others' posts.\n",
    "\n",
    "\n",
    "However, TOTAL_VISIT_COUNT has only neglectible correlation with TOTAL_POST_COUNT and 'TOTAL_LIKES_GIVEN', which can be interpreted as only a neglectible amount of users post or like on their visits.\n",
    "\n",
    "### Regarding the correlation with the churn, we can see that:\n",
    "- As expected, the correlation with all user activity is negative. And the correlation with number of days passed since any activity is positive.\n",
    "- Relatinship with all variables with negative correlation but TOTAL_VISIT_COUNT is neglectible (< -0.3).\n",
    "- Relatinship with all variables with positive correlation but DAYS_SINCE_LAST_POST and DAYS_SINCE_LAST_VISIT is neglectible (< 0.3).\n",
    "- TOTAL_VISIT_COUNT and CHURNED have only a *moderate negative* relentionship (-0.5). And because of the definition, we also know that all the visits happened before 2 months ago for the users with CHURNED=1, or True)\n",
    "- DAYS_SINCE_LAST_POST and CHURNED have only a *moderate positive* relentionship (0.53). \n",
    "- DAYS_SINCE_LAST_VISIT and CHURNED have a *strong positive* relentionship (0.77). Which is expected, since the churn definition is >60 since last visit."
   ]
  },
  {
   "cell_type": "markdown",
   "id": "ff76fdd7-c1ff-4af5-aa6c-e4d6142b841a",
   "metadata": {
    "tags": []
   },
   "source": [
    "## 3.3 Exploring the different activity level between churned and non-churned users"
   ]
  },
  {
   "cell_type": "markdown",
   "id": "4f26c9f4-297e-4e55-8d8d-429e74da618f",
   "metadata": {
    "jp-MarkdownHeadingCollapsed": true,
    "tags": []
   },
   "source": [
    "### 3.3.1 Visits"
   ]
  },
  {
   "cell_type": "code",
   "execution_count": 23,
   "id": "8808d53c",
   "metadata": {
    "tags": []
   },
   "outputs": [
    {
     "data": {
      "image/png": "[encoded data removed]",
      "text/plain": [
       "<Figure size 640x480 with 1 Axes>"
      ]
     },
     "metadata": {},
     "output_type": "display_data"
    }
   ],
   "source": [
    "# churn vs. days since last visit\n",
    "ax = df.groupby('CHURNED')['DAYS_SINCE_LAST_VISIT'].mean().plot.barh(color=['blue', 'orange'])\n",
    "plt.xlabel('DAYS_SINCE_LAST_VISIT')\n",
    "plt.title('Average number of days since last visit by churn status')\n",
    "\n",
    "# Add labels to the bars\n",
    "for i in ax.patches:\n",
    "    ax.text(i.get_width() + 0.1, i.get_y() + 0.1, f'{i.get_width():.0f}', fontsize=12, color='black')\n",
    "\n",
    "\n",
    "# Show the plot\n",
    "plt.show()"
   ]
  },
  {
   "cell_type": "code",
   "execution_count": 24,
   "id": "bbd0a0ed-5c64-491b-85c4-7483eeeb9a27",
   "metadata": {
    "tags": []
   },
   "outputs": [
    {
     "data": {
      "text/html": [
       "<div>\n",
       "<style scoped>\n",
       "    .dataframe tbody tr th:only-of-type {\n",
       "        vertical-align: middle;\n",
       "    }\n",
       "\n",
       "    .dataframe tbody tr th {\n",
       "        vertical-align: top;\n",
       "    }\n",
       "\n",
       "    .dataframe thead th {\n",
       "        text-align: right;\n",
       "    }\n",
       "</style>\n",
       "<table border=\"1\" class=\"dataframe\">\n",
       "  <thead>\n",
       "    <tr style=\"text-align: right;\">\n",
       "      <th></th>\n",
       "      <th>count</th>\n",
       "      <th>mean</th>\n",
       "      <th>std</th>\n",
       "      <th>min</th>\n",
       "      <th>25%</th>\n",
       "      <th>50%</th>\n",
       "      <th>75%</th>\n",
       "      <th>max</th>\n",
       "    </tr>\n",
       "    <tr>\n",
       "      <th>CHURNED</th>\n",
       "      <th></th>\n",
       "      <th></th>\n",
       "      <th></th>\n",
       "      <th></th>\n",
       "      <th></th>\n",
       "      <th></th>\n",
       "      <th></th>\n",
       "      <th></th>\n",
       "    </tr>\n",
       "  </thead>\n",
       "  <tbody>\n",
       "    <tr>\n",
       "      <th>False</th>\n",
       "      <td>25000.0</td>\n",
       "      <td>13.66448</td>\n",
       "      <td>16.592166</td>\n",
       "      <td>0.0</td>\n",
       "      <td>1.0</td>\n",
       "      <td>5.0</td>\n",
       "      <td>20.0</td>\n",
       "      <td>61.0</td>\n",
       "    </tr>\n",
       "    <tr>\n",
       "      <th>True</th>\n",
       "      <td>25000.0</td>\n",
       "      <td>251.16748</td>\n",
       "      <td>137.453738</td>\n",
       "      <td>62.0</td>\n",
       "      <td>130.0</td>\n",
       "      <td>231.0</td>\n",
       "      <td>354.0</td>\n",
       "      <td>609.0</td>\n",
       "    </tr>\n",
       "  </tbody>\n",
       "</table>\n",
       "</div>"
      ],
      "text/plain": [
       "           count       mean         std   min    25%    50%    75%    max\n",
       "CHURNED                                                                  \n",
       "False    25000.0   13.66448   16.592166   0.0    1.0    5.0   20.0   61.0\n",
       "True     25000.0  251.16748  137.453738  62.0  130.0  231.0  354.0  609.0"
      ]
     },
     "execution_count": 24,
     "metadata": {},
     "output_type": "execute_result"
    }
   ],
   "source": [
    "df.groupby('CHURNED').DAYS_SINCE_LAST_VISIT.describe()"
   ]
  },
  {
   "cell_type": "code",
   "execution_count": 25,
   "id": "88e1079f",
   "metadata": {
    "tags": []
   },
   "outputs": [
    {
     "data": {
      "image/png": "[encoded data removed]",
      "text/plain": [
       "<Figure size 640x480 with 1 Axes>"
      ]
     },
     "metadata": {},
     "output_type": "display_data"
    }
   ],
   "source": [
    "# Making a histogram of days since last visit for churned users only\n",
    "sns.histplot(df.loc[df.CHURNED==True,'DAYS_SINCE_LAST_VISIT'], bins = 20, kde = True).set(title = 'Distribution of days since last visit for churned users only');"
   ]
  },
  {
   "cell_type": "code",
   "execution_count": 26,
   "id": "241f2aa0-668d-4d5d-8236-672da7e2a35c",
   "metadata": {
    "tags": []
   },
   "outputs": [
    {
     "data": {
      "image/png": "[encoded data removed]",
      "text/plain": [
       "<Figure size 640x480 with 1 Axes>"
      ]
     },
     "metadata": {},
     "output_type": "display_data"
    }
   ],
   "source": [
    "# churn vs. number of visits\n",
    "ax = df.groupby('CHURNED')['TOTAL_VISIT_COUNT'].mean().plot.barh(color=['blue', 'orange'])\n",
    "plt.xlabel('TOTAL_VISIT_COUNT')\n",
    "plt.title('Average number of visits by churn status')\n",
    "\n",
    "# Add labels to the bars\n",
    "for i in ax.patches:\n",
    "    ax.text(i.get_width() + 0.1, i.get_y() + 0.1, f'{i.get_width():.0f}', fontsize=12, color='black')\n",
    "\n",
    "\n",
    "# Show the plot\n",
    "plt.show()"
   ]
  },
  {
   "cell_type": "code",
   "execution_count": 27,
   "id": "125f67c9-f3df-4f80-837c-d7bb533abf4b",
   "metadata": {
    "tags": []
   },
   "outputs": [
    {
     "data": {
      "image/png": "[encoded data removed]",
      "text/plain": [
       "<Figure size 640x480 with 1 Axes>"
      ]
     },
     "metadata": {},
     "output_type": "display_data"
    }
   ],
   "source": [
    "# Making a histogram of number of visits for churned users only\n",
    "sns.histplot(df.loc[df.CHURNED==True,'TOTAL_VISIT_COUNT'], bins = 100, kde = True).set(title = 'Distribution of number of visits for churned users only');"
   ]
  },
  {
   "cell_type": "code",
   "execution_count": 28,
   "id": "984dc074-f8af-4e6e-9037-d38549de64d8",
   "metadata": {
    "tags": []
   },
   "outputs": [
    {
     "data": {
      "image/png": "[encoded data removed]",
      "text/plain": [
       "<Figure size 800x600 with 1 Axes>"
      ]
     },
     "metadata": {},
     "output_type": "display_data"
    }
   ],
   "source": [
    "plt.figure(figsize=(8, 6))\n",
    "plt.boxplot([df.loc[df.CHURNED==True,'TOTAL_VISIT_COUNT'], df.loc[df.CHURNED==False,'TOTAL_VISIT_COUNT']], labels=['True', 'False'])\n",
    "plt.xlabel('CHURNED')\n",
    "plt.ylabel('TOTAL_VISIT_COUNT')\n",
    "plt.title('Boxplot of TOTAL_VISIT_COUNT by CHURNED')\n",
    "plt.show()"
   ]
  },
  {
   "cell_type": "code",
   "execution_count": 29,
   "id": "ece9ec58-7ba8-4a4f-8621-fb9945888de9",
   "metadata": {
    "tags": []
   },
   "outputs": [
    {
     "data": {
      "text/html": [
       "<div>\n",
       "<style scoped>\n",
       "    .dataframe tbody tr th:only-of-type {\n",
       "        vertical-align: middle;\n",
       "    }\n",
       "\n",
       "    .dataframe tbody tr th {\n",
       "        vertical-align: top;\n",
       "    }\n",
       "\n",
       "    .dataframe thead th {\n",
       "        text-align: right;\n",
       "    }\n",
       "</style>\n",
       "<table border=\"1\" class=\"dataframe\">\n",
       "  <thead>\n",
       "    <tr style=\"text-align: right;\">\n",
       "      <th></th>\n",
       "      <th>count</th>\n",
       "      <th>mean</th>\n",
       "      <th>std</th>\n",
       "      <th>min</th>\n",
       "      <th>25%</th>\n",
       "      <th>50%</th>\n",
       "      <th>75%</th>\n",
       "      <th>max</th>\n",
       "    </tr>\n",
       "    <tr>\n",
       "      <th>CHURNED</th>\n",
       "      <th></th>\n",
       "      <th></th>\n",
       "      <th></th>\n",
       "      <th></th>\n",
       "      <th></th>\n",
       "      <th></th>\n",
       "      <th></th>\n",
       "      <th></th>\n",
       "    </tr>\n",
       "  </thead>\n",
       "  <tbody>\n",
       "    <tr>\n",
       "      <th>False</th>\n",
       "      <td>25000.0</td>\n",
       "      <td>129.75944</td>\n",
       "      <td>115.004976</td>\n",
       "      <td>2.0</td>\n",
       "      <td>43.0</td>\n",
       "      <td>91.0</td>\n",
       "      <td>184.0</td>\n",
       "      <td>595.0</td>\n",
       "    </tr>\n",
       "    <tr>\n",
       "      <th>True</th>\n",
       "      <td>25000.0</td>\n",
       "      <td>30.88712</td>\n",
       "      <td>40.589835</td>\n",
       "      <td>1.0</td>\n",
       "      <td>9.0</td>\n",
       "      <td>18.0</td>\n",
       "      <td>36.0</td>\n",
       "      <td>493.0</td>\n",
       "    </tr>\n",
       "  </tbody>\n",
       "</table>\n",
       "</div>"
      ],
      "text/plain": [
       "           count       mean         std  min   25%   50%    75%    max\n",
       "CHURNED                                                               \n",
       "False    25000.0  129.75944  115.004976  2.0  43.0  91.0  184.0  595.0\n",
       "True     25000.0   30.88712   40.589835  1.0   9.0  18.0   36.0  493.0"
      ]
     },
     "execution_count": 29,
     "metadata": {},
     "output_type": "execute_result"
    }
   ],
   "source": [
    "df.groupby('CHURNED')['TOTAL_VISIT_COUNT'].describe()"
   ]
  },
  {
   "cell_type": "code",
   "execution_count": 30,
   "id": "e323fccc-b522-40bc-8634-03456770856d",
   "metadata": {},
   "outputs": [],
   "source": [
    "### 3.3.1 Giving likes and writing comments"
   ]
  },
  {
   "cell_type": "code",
   "execution_count": 31,
   "id": "767a72b4-9a08-4217-9fab-7a8b99c4b024",
   "metadata": {},
   "outputs": [],
   "source": [
    "### 3.3.1 Receiving likes and comments"
   ]
  },
  {
   "cell_type": "code",
   "execution_count": 32,
   "id": "5be8514a-706e-4ccb-b46c-33e3ac0c74ce",
   "metadata": {
    "tags": []
   },
   "outputs": [],
   "source": [
    "# Check for outliers"
   ]
  },
  {
   "cell_type": "markdown",
   "id": "1d74643e-ed87-4fc1-883a-58fa253fc6e9",
   "metadata": {
    "tags": []
   },
   "source": [
    "##### Investigating distribution and possible outliers"
   ]
  },
  {
   "cell_type": "code",
   "execution_count": 33,
   "id": "5bb32c7f-dca5-410f-959e-38b34067619b",
   "metadata": {
    "tags": []
   },
   "outputs": [
    {
     "data": {
      "image/png": "[encoded data removed]",
      "text/plain": [
       "<Figure size 400x300 with 1 Axes>"
      ]
     },
     "metadata": {},
     "output_type": "display_data"
    }
   ],
   "source": [
    "plt.figure(figsize=(4, 3))\n",
    "plt.boxplot(df['TOTAL_VISIT_COUNT']);\n",
    "plt.xlabel('TOTAL_VISIT_COUNT');"
   ]
  },
  {
   "cell_type": "code",
   "execution_count": 34,
   "id": "1181bb46-b854-40f3-bf53-1e452ea0be2b",
   "metadata": {
    "tags": []
   },
   "outputs": [
    {
     "data": {
      "text/html": [
       "<div>\n",
       "<style scoped>\n",
       "    .dataframe tbody tr th:only-of-type {\n",
       "        vertical-align: middle;\n",
       "    }\n",
       "\n",
       "    .dataframe tbody tr th {\n",
       "        vertical-align: top;\n",
       "    }\n",
       "\n",
       "    .dataframe thead th {\n",
       "        text-align: right;\n",
       "    }\n",
       "</style>\n",
       "<table border=\"1\" class=\"dataframe\">\n",
       "  <thead>\n",
       "    <tr style=\"text-align: right;\">\n",
       "      <th></th>\n",
       "      <th>TOTAL_VISIT_COUNT</th>\n",
       "      <th>CHURNED_INT</th>\n",
       "    </tr>\n",
       "  </thead>\n",
       "  <tbody>\n",
       "    <tr>\n",
       "      <th>count</th>\n",
       "      <td>4425.000000</td>\n",
       "      <td>4425.000000</td>\n",
       "    </tr>\n",
       "    <tr>\n",
       "      <th>mean</th>\n",
       "      <td>338.645424</td>\n",
       "      <td>0.041130</td>\n",
       "    </tr>\n",
       "    <tr>\n",
       "      <th>std</th>\n",
       "      <td>82.115324</td>\n",
       "      <td>0.198613</td>\n",
       "    </tr>\n",
       "    <tr>\n",
       "      <th>min</th>\n",
       "      <td>238.000000</td>\n",
       "      <td>0.000000</td>\n",
       "    </tr>\n",
       "    <tr>\n",
       "      <th>25%</th>\n",
       "      <td>271.000000</td>\n",
       "      <td>0.000000</td>\n",
       "    </tr>\n",
       "    <tr>\n",
       "      <th>50%</th>\n",
       "      <td>319.000000</td>\n",
       "      <td>0.000000</td>\n",
       "    </tr>\n",
       "    <tr>\n",
       "      <th>75%</th>\n",
       "      <td>389.000000</td>\n",
       "      <td>0.000000</td>\n",
       "    </tr>\n",
       "    <tr>\n",
       "      <th>max</th>\n",
       "      <td>595.000000</td>\n",
       "      <td>1.000000</td>\n",
       "    </tr>\n",
       "  </tbody>\n",
       "</table>\n",
       "</div>"
      ],
      "text/plain": [
       "       TOTAL_VISIT_COUNT  CHURNED_INT\n",
       "count        4425.000000  4425.000000\n",
       "mean          338.645424     0.041130\n",
       "std            82.115324     0.198613\n",
       "min           238.000000     0.000000\n",
       "25%           271.000000     0.000000\n",
       "50%           319.000000     0.000000\n",
       "75%           389.000000     0.000000\n",
       "max           595.000000     1.000000"
      ]
     },
     "execution_count": 34,
     "metadata": {},
     "output_type": "execute_result"
    }
   ],
   "source": [
    "# Calculate the IQR for each category\n",
    "Q1_visits = df.TOTAL_VISIT_COUNT.quantile(0.25)\n",
    "Q3_visits = df.TOTAL_VISIT_COUNT.quantile(0.75)\n",
    "IQR_visits = Q3_visits - Q1_visits\n",
    "\n",
    "# Define the upper and lower bounds for outliers\n",
    "lower_bound_visits = Q1_visits - 1.5 * IQR_visits\n",
    "upper_bound_visits = Q3_visits + 1.5 * IQR_visits\n",
    "\n",
    "# Find outliers\n",
    "outliers_visits = df.loc[(df.TOTAL_VISIT_COUNT < lower_bound_visits) | (df.TOTAL_VISIT_COUNT > upper_bound_visits), \n",
    "                         ['TOTAL_VISIT_COUNT','CHURNED_INT']]\n",
    "outliers_visits.describe()"
   ]
  },
  {
   "cell_type": "code",
   "execution_count": 35,
   "id": "620fe18b-eafb-4ef1-9508-3c7be51d45d3",
   "metadata": {
    "tags": []
   },
   "outputs": [
    {
     "name": "stdout",
     "output_type": "stream",
     "text": [
      "237.5\n"
     ]
    }
   ],
   "source": [
    "print(upper_bound_visits) # visits above 237 are considered outliers"
   ]
  },
  {
   "cell_type": "code",
   "execution_count": 36,
   "id": "230c4285-a2c8-4eae-994c-aa2d265e262f",
   "metadata": {
    "tags": []
   },
   "outputs": [
    {
     "data": {
      "text/plain": [
       "8.85"
      ]
     },
     "execution_count": 36,
     "metadata": {},
     "output_type": "execute_result"
    }
   ],
   "source": [
    "outliers_visits.shape[0]/df.shape[0]*100 # they represent 8.85% of the dataset"
   ]
  },
  {
   "cell_type": "code",
   "execution_count": 37,
   "id": "565d96f7-0366-469c-80fb-f8ee68b9f666",
   "metadata": {
    "tags": []
   },
   "outputs": [
    {
     "data": {
      "text/html": [
       "<div>\n",
       "<style scoped>\n",
       "    .dataframe tbody tr th:only-of-type {\n",
       "        vertical-align: middle;\n",
       "    }\n",
       "\n",
       "    .dataframe tbody tr th {\n",
       "        vertical-align: top;\n",
       "    }\n",
       "\n",
       "    .dataframe thead th {\n",
       "        text-align: right;\n",
       "    }\n",
       "</style>\n",
       "<table border=\"1\" class=\"dataframe\">\n",
       "  <thead>\n",
       "    <tr style=\"text-align: right;\">\n",
       "      <th></th>\n",
       "      <th>TOTAL_VISIT_COUNT</th>\n",
       "    </tr>\n",
       "    <tr>\n",
       "      <th>CHURNED_INT</th>\n",
       "      <th></th>\n",
       "    </tr>\n",
       "  </thead>\n",
       "  <tbody>\n",
       "    <tr>\n",
       "      <th>0</th>\n",
       "      <td>4243</td>\n",
       "    </tr>\n",
       "    <tr>\n",
       "      <th>1</th>\n",
       "      <td>182</td>\n",
       "    </tr>\n",
       "  </tbody>\n",
       "</table>\n",
       "</div>"
      ],
      "text/plain": [
       "             TOTAL_VISIT_COUNT\n",
       "CHURNED_INT                   \n",
       "0                         4243\n",
       "1                          182"
      ]
     },
     "execution_count": 37,
     "metadata": {},
     "output_type": "execute_result"
    }
   ],
   "source": [
    "outliers_visits.groupby('CHURNED_INT').count()"
   ]
  },
  {
   "cell_type": "code",
   "execution_count": 38,
   "id": "4b440d01-9738-4bc1-ba84-8d6695b206e4",
   "metadata": {
    "tags": []
   },
   "outputs": [
    {
     "data": {
      "text/html": [
       "<div>\n",
       "<style scoped>\n",
       "    .dataframe tbody tr th:only-of-type {\n",
       "        vertical-align: middle;\n",
       "    }\n",
       "\n",
       "    .dataframe tbody tr th {\n",
       "        vertical-align: top;\n",
       "    }\n",
       "\n",
       "    .dataframe thead th {\n",
       "        text-align: right;\n",
       "    }\n",
       "</style>\n",
       "<table border=\"1\" class=\"dataframe\">\n",
       "  <thead>\n",
       "    <tr style=\"text-align: right;\">\n",
       "      <th></th>\n",
       "      <th>USER_ID</th>\n",
       "      <th>TOTAL_VISIT_COUNT</th>\n",
       "      <th>TOTAL_POST_COUNT</th>\n",
       "      <th>TOTAL_LIKES_RECEIVED</th>\n",
       "      <th>TOTAL_COMMENTS_RECEIVED</th>\n",
       "      <th>TOTAL_LIKES_GIVEN</th>\n",
       "      <th>TOTAL_COMMENTS_WRITTEN</th>\n",
       "      <th>CHURNED_INT</th>\n",
       "      <th>DAYS_SINCE_LAST_VISIT</th>\n",
       "      <th>DAYS_SINCE_LAST_POST</th>\n",
       "      <th>DAYS_SINCE_LAST_LIKE_RECEIVED</th>\n",
       "      <th>DAYS_SINCE_LAST_COMMENT_RECEIVED</th>\n",
       "      <th>DAYS_SINCE_LAST_LIKE_GIVEN</th>\n",
       "      <th>DAYS_SINCE_LAST_COMMENT_WRITTEN</th>\n",
       "    </tr>\n",
       "  </thead>\n",
       "  <tbody>\n",
       "    <tr>\n",
       "      <th>count</th>\n",
       "      <td>45575.000000</td>\n",
       "      <td>45575.000000</td>\n",
       "      <td>45575.000000</td>\n",
       "      <td>45575.000000</td>\n",
       "      <td>45575.000000</td>\n",
       "      <td>45575.000000</td>\n",
       "      <td>45575.000000</td>\n",
       "      <td>45575.000000</td>\n",
       "      <td>45575.000000</td>\n",
       "      <td>45575.000000</td>\n",
       "      <td>45575.000000</td>\n",
       "      <td>45575.000000</td>\n",
       "      <td>45575.000000</td>\n",
       "      <td>45575.000000</td>\n",
       "    </tr>\n",
       "    <tr>\n",
       "      <th>mean</th>\n",
       "      <td>25582.472913</td>\n",
       "      <td>55.242084</td>\n",
       "      <td>2.708656</td>\n",
       "      <td>3.232540</td>\n",
       "      <td>5.668261</td>\n",
       "      <td>4.218146</td>\n",
       "      <td>3.136632</td>\n",
       "      <td>0.544553</td>\n",
       "      <td>144.392825</td>\n",
       "      <td>286.144312</td>\n",
       "      <td>174.706703</td>\n",
       "      <td>211.234953</td>\n",
       "      <td>164.253977</td>\n",
       "      <td>160.735425</td>\n",
       "    </tr>\n",
       "    <tr>\n",
       "      <th>std</th>\n",
       "      <td>14441.981873</td>\n",
       "      <td>55.472787</td>\n",
       "      <td>3.610895</td>\n",
       "      <td>7.667839</td>\n",
       "      <td>10.408507</td>\n",
       "      <td>14.075737</td>\n",
       "      <td>8.367893</td>\n",
       "      <td>0.498017</td>\n",
       "      <td>155.813983</td>\n",
       "      <td>165.635805</td>\n",
       "      <td>188.702227</td>\n",
       "      <td>188.058201</td>\n",
       "      <td>185.076332</td>\n",
       "      <td>184.127718</td>\n",
       "    </tr>\n",
       "    <tr>\n",
       "      <th>min</th>\n",
       "      <td>1.000000</td>\n",
       "      <td>1.000000</td>\n",
       "      <td>1.000000</td>\n",
       "      <td>0.000000</td>\n",
       "      <td>0.000000</td>\n",
       "      <td>0.000000</td>\n",
       "      <td>0.000000</td>\n",
       "      <td>0.000000</td>\n",
       "      <td>0.000000</td>\n",
       "      <td>0.000000</td>\n",
       "      <td>-1.000000</td>\n",
       "      <td>-1.000000</td>\n",
       "      <td>-1.000000</td>\n",
       "      <td>-1.000000</td>\n",
       "    </tr>\n",
       "    <tr>\n",
       "      <th>25%</th>\n",
       "      <td>13148.500000</td>\n",
       "      <td>14.000000</td>\n",
       "      <td>1.000000</td>\n",
       "      <td>0.000000</td>\n",
       "      <td>0.000000</td>\n",
       "      <td>0.000000</td>\n",
       "      <td>0.000000</td>\n",
       "      <td>0.000000</td>\n",
       "      <td>10.000000</td>\n",
       "      <td>143.000000</td>\n",
       "      <td>-1.000000</td>\n",
       "      <td>-1.000000</td>\n",
       "      <td>-1.000000</td>\n",
       "      <td>-1.000000</td>\n",
       "    </tr>\n",
       "    <tr>\n",
       "      <th>50%</th>\n",
       "      <td>25839.000000</td>\n",
       "      <td>34.000000</td>\n",
       "      <td>2.000000</td>\n",
       "      <td>1.000000</td>\n",
       "      <td>2.000000</td>\n",
       "      <td>1.000000</td>\n",
       "      <td>1.000000</td>\n",
       "      <td>1.000000</td>\n",
       "      <td>80.000000</td>\n",
       "      <td>288.000000</td>\n",
       "      <td>108.000000</td>\n",
       "      <td>195.000000</td>\n",
       "      <td>84.000000</td>\n",
       "      <td>75.000000</td>\n",
       "    </tr>\n",
       "    <tr>\n",
       "      <th>75%</th>\n",
       "      <td>38158.500000</td>\n",
       "      <td>79.000000</td>\n",
       "      <td>3.000000</td>\n",
       "      <td>3.000000</td>\n",
       "      <td>7.000000</td>\n",
       "      <td>4.000000</td>\n",
       "      <td>3.000000</td>\n",
       "      <td>1.000000</td>\n",
       "      <td>251.000000</td>\n",
       "      <td>420.000000</td>\n",
       "      <td>338.000000</td>\n",
       "      <td>372.000000</td>\n",
       "      <td>317.000000</td>\n",
       "      <td>308.000000</td>\n",
       "    </tr>\n",
       "    <tr>\n",
       "      <th>max</th>\n",
       "      <td>50000.000000</td>\n",
       "      <td>237.000000</td>\n",
       "      <td>110.000000</td>\n",
       "      <td>258.000000</td>\n",
       "      <td>314.000000</td>\n",
       "      <td>831.000000</td>\n",
       "      <td>534.000000</td>\n",
       "      <td>1.000000</td>\n",
       "      <td>609.000000</td>\n",
       "      <td>608.000000</td>\n",
       "      <td>608.000000</td>\n",
       "      <td>608.000000</td>\n",
       "      <td>608.000000</td>\n",
       "      <td>608.000000</td>\n",
       "    </tr>\n",
       "  </tbody>\n",
       "</table>\n",
       "</div>"
      ],
      "text/plain": [
       "            USER_ID  TOTAL_VISIT_COUNT  TOTAL_POST_COUNT  \\\n",
       "count  45575.000000       45575.000000      45575.000000   \n",
       "mean   25582.472913          55.242084          2.708656   \n",
       "std    14441.981873          55.472787          3.610895   \n",
       "min        1.000000           1.000000          1.000000   \n",
       "25%    13148.500000          14.000000          1.000000   \n",
       "50%    25839.000000          34.000000          2.000000   \n",
       "75%    38158.500000          79.000000          3.000000   \n",
       "max    50000.000000         237.000000        110.000000   \n",
       "\n",
       "       TOTAL_LIKES_RECEIVED  TOTAL_COMMENTS_RECEIVED  TOTAL_LIKES_GIVEN  \\\n",
       "count          45575.000000             45575.000000       45575.000000   \n",
       "mean               3.232540                 5.668261           4.218146   \n",
       "std                7.667839                10.408507          14.075737   \n",
       "min                0.000000                 0.000000           0.000000   \n",
       "25%                0.000000                 0.000000           0.000000   \n",
       "50%                1.000000                 2.000000           1.000000   \n",
       "75%                3.000000                 7.000000           4.000000   \n",
       "max              258.000000               314.000000         831.000000   \n",
       "\n",
       "       TOTAL_COMMENTS_WRITTEN   CHURNED_INT  DAYS_SINCE_LAST_VISIT  \\\n",
       "count            45575.000000  45575.000000           45575.000000   \n",
       "mean                 3.136632      0.544553             144.392825   \n",
       "std                  8.367893      0.498017             155.813983   \n",
       "min                  0.000000      0.000000               0.000000   \n",
       "25%                  0.000000      0.000000              10.000000   \n",
       "50%                  1.000000      1.000000              80.000000   \n",
       "75%                  3.000000      1.000000             251.000000   \n",
       "max                534.000000      1.000000             609.000000   \n",
       "\n",
       "       DAYS_SINCE_LAST_POST  DAYS_SINCE_LAST_LIKE_RECEIVED  \\\n",
       "count          45575.000000                   45575.000000   \n",
       "mean             286.144312                     174.706703   \n",
       "std              165.635805                     188.702227   \n",
       "min                0.000000                      -1.000000   \n",
       "25%              143.000000                      -1.000000   \n",
       "50%              288.000000                     108.000000   \n",
       "75%              420.000000                     338.000000   \n",
       "max              608.000000                     608.000000   \n",
       "\n",
       "       DAYS_SINCE_LAST_COMMENT_RECEIVED  DAYS_SINCE_LAST_LIKE_GIVEN  \\\n",
       "count                      45575.000000                45575.000000   \n",
       "mean                         211.234953                  164.253977   \n",
       "std                          188.058201                  185.076332   \n",
       "min                           -1.000000                   -1.000000   \n",
       "25%                           -1.000000                   -1.000000   \n",
       "50%                          195.000000                   84.000000   \n",
       "75%                          372.000000                  317.000000   \n",
       "max                          608.000000                  608.000000   \n",
       "\n",
       "       DAYS_SINCE_LAST_COMMENT_WRITTEN  \n",
       "count                     45575.000000  \n",
       "mean                        160.735425  \n",
       "std                         184.127718  \n",
       "min                          -1.000000  \n",
       "25%                          -1.000000  \n",
       "50%                          75.000000  \n",
       "75%                         308.000000  \n",
       "max                         608.000000  "
      ]
     },
     "execution_count": 38,
     "metadata": {},
     "output_type": "execute_result"
    }
   ],
   "source": [
    "# without outliers\n",
    "no_outliers_visits = df.loc[(df.TOTAL_VISIT_COUNT >= lower_bound_visits) & (df.TOTAL_VISIT_COUNT <= upper_bound_visits)]\n",
    "no_outliers_visits.describe()"
   ]
  },
  {
   "cell_type": "markdown",
   "id": "f76d9fc0-b2a2-40a7-a91a-08a63f4b8b56",
   "metadata": {
    "jp-MarkdownHeadingCollapsed": true,
    "tags": []
   },
   "source": [
    "### 3.3.2 Posts"
   ]
  },
  {
   "cell_type": "code",
   "execution_count": 46,
   "id": "667fbca1-6858-40f4-aaaa-928ccbd4ad2c",
   "metadata": {
    "tags": []
   },
   "outputs": [
    {
     "data": {
      "image/png": "[encoded data removed]",
      "text/plain": [
       "<Figure size 640x480 with 1 Axes>"
      ]
     },
     "metadata": {},
     "output_type": "display_data"
    }
   ],
   "source": [
    "# churn vs. average days since last posts\n",
    "ax = df.groupby('CHURNED')['DAYS_SINCE_LAST_POST'].mean().plot.barh(color=['blue', 'orange'])\n",
    "plt.xlabel('DAYS_SINCE_LAST_POST')\n",
    "plt.title('Average days since last post by churn status')\n",
    "\n",
    "# Add labels to the bars\n",
    "for i in ax.patches:\n",
    "    ax.text(i.get_width() + 0.1, i.get_y() + 0.1, f'{i.get_width():.0f}', fontsize=12, color='black')\n",
    "\n",
    "\n",
    "# Show the plot\n",
    "plt.show()"
   ]
  },
  {
   "cell_type": "code",
   "execution_count": 40,
   "id": "dc6e190e-207a-48f2-a53c-160c5ae793b3",
   "metadata": {
    "tags": []
   },
   "outputs": [
    {
     "data": {
      "text/html": [
       "<div>\n",
       "<style scoped>\n",
       "    .dataframe tbody tr th:only-of-type {\n",
       "        vertical-align: middle;\n",
       "    }\n",
       "\n",
       "    .dataframe tbody tr th {\n",
       "        vertical-align: top;\n",
       "    }\n",
       "\n",
       "    .dataframe thead th {\n",
       "        text-align: right;\n",
       "    }\n",
       "</style>\n",
       "<table border=\"1\" class=\"dataframe\">\n",
       "  <thead>\n",
       "    <tr style=\"text-align: right;\">\n",
       "      <th></th>\n",
       "      <th>USER_ID</th>\n",
       "      <th>TOTAL_VISIT_COUNT</th>\n",
       "      <th>TOTAL_POST_COUNT</th>\n",
       "      <th>TOTAL_LIKES_RECEIVED</th>\n",
       "      <th>TOTAL_COMMENTS_RECEIVED</th>\n",
       "      <th>TOTAL_LIKES_GIVEN</th>\n",
       "      <th>TOTAL_COMMENTS_WRITTEN</th>\n",
       "      <th>CHURNED_INT</th>\n",
       "      <th>DAYS_SINCE_LAST_VISIT</th>\n",
       "      <th>DAYS_SINCE_LAST_POST</th>\n",
       "      <th>DAYS_SINCE_LAST_LIKE_RECEIVED</th>\n",
       "      <th>DAYS_SINCE_LAST_COMMENT_RECEIVED</th>\n",
       "      <th>DAYS_SINCE_LAST_LIKE_GIVEN</th>\n",
       "      <th>DAYS_SINCE_LAST_COMMENT_WRITTEN</th>\n",
       "    </tr>\n",
       "  </thead>\n",
       "  <tbody>\n",
       "    <tr>\n",
       "      <th>count</th>\n",
       "      <td>50000.000000</td>\n",
       "      <td>50000.000000</td>\n",
       "      <td>50000.0000</td>\n",
       "      <td>50000.000000</td>\n",
       "      <td>50000.000000</td>\n",
       "      <td>50000.00000</td>\n",
       "      <td>50000.000000</td>\n",
       "      <td>50000.000000</td>\n",
       "      <td>50000.000000</td>\n",
       "      <td>50000.000000</td>\n",
       "      <td>50000.000000</td>\n",
       "      <td>50000.000000</td>\n",
       "      <td>50000.000000</td>\n",
       "      <td>50000.000000</td>\n",
       "    </tr>\n",
       "    <tr>\n",
       "      <th>mean</th>\n",
       "      <td>25000.500000</td>\n",
       "      <td>80.323280</td>\n",
       "      <td>3.2949</td>\n",
       "      <td>4.047600</td>\n",
       "      <td>6.966360</td>\n",
       "      <td>6.48192</td>\n",
       "      <td>4.711460</td>\n",
       "      <td>0.500000</td>\n",
       "      <td>132.415980</td>\n",
       "      <td>273.281480</td>\n",
       "      <td>171.624880</td>\n",
       "      <td>205.378220</td>\n",
       "      <td>158.617580</td>\n",
       "      <td>155.773140</td>\n",
       "    </tr>\n",
       "    <tr>\n",
       "      <th>std</th>\n",
       "      <td>14433.901067</td>\n",
       "      <td>99.401578</td>\n",
       "      <td>12.3165</td>\n",
       "      <td>20.300791</td>\n",
       "      <td>19.458295</td>\n",
       "      <td>33.78831</td>\n",
       "      <td>17.332352</td>\n",
       "      <td>0.500005</td>\n",
       "      <td>153.903945</td>\n",
       "      <td>168.714348</td>\n",
       "      <td>185.851063</td>\n",
       "      <td>185.608978</td>\n",
       "      <td>181.409884</td>\n",
       "      <td>180.332539</td>\n",
       "    </tr>\n",
       "    <tr>\n",
       "      <th>min</th>\n",
       "      <td>1.000000</td>\n",
       "      <td>1.000000</td>\n",
       "      <td>1.0000</td>\n",
       "      <td>0.000000</td>\n",
       "      <td>0.000000</td>\n",
       "      <td>0.00000</td>\n",
       "      <td>0.000000</td>\n",
       "      <td>0.000000</td>\n",
       "      <td>0.000000</td>\n",
       "      <td>0.000000</td>\n",
       "      <td>-1.000000</td>\n",
       "      <td>-1.000000</td>\n",
       "      <td>-1.000000</td>\n",
       "      <td>-1.000000</td>\n",
       "    </tr>\n",
       "    <tr>\n",
       "      <th>25%</th>\n",
       "      <td>12500.750000</td>\n",
       "      <td>15.000000</td>\n",
       "      <td>1.0000</td>\n",
       "      <td>0.000000</td>\n",
       "      <td>1.000000</td>\n",
       "      <td>0.00000</td>\n",
       "      <td>0.000000</td>\n",
       "      <td>0.000000</td>\n",
       "      <td>5.000000</td>\n",
       "      <td>123.000000</td>\n",
       "      <td>-1.000000</td>\n",
       "      <td>3.000000</td>\n",
       "      <td>-1.000000</td>\n",
       "      <td>-1.000000</td>\n",
       "    </tr>\n",
       "    <tr>\n",
       "      <th>50%</th>\n",
       "      <td>25000.500000</td>\n",
       "      <td>39.000000</td>\n",
       "      <td>2.0000</td>\n",
       "      <td>1.000000</td>\n",
       "      <td>3.000000</td>\n",
       "      <td>1.00000</td>\n",
       "      <td>1.000000</td>\n",
       "      <td>0.500000</td>\n",
       "      <td>61.500000</td>\n",
       "      <td>274.000000</td>\n",
       "      <td>105.000000</td>\n",
       "      <td>180.000000</td>\n",
       "      <td>75.000000</td>\n",
       "      <td>71.000000</td>\n",
       "    </tr>\n",
       "    <tr>\n",
       "      <th>75%</th>\n",
       "      <td>37500.250000</td>\n",
       "      <td>104.000000</td>\n",
       "      <td>3.0000</td>\n",
       "      <td>4.000000</td>\n",
       "      <td>7.000000</td>\n",
       "      <td>5.00000</td>\n",
       "      <td>4.000000</td>\n",
       "      <td>1.000000</td>\n",
       "      <td>231.000000</td>\n",
       "      <td>412.000000</td>\n",
       "      <td>328.000000</td>\n",
       "      <td>364.000000</td>\n",
       "      <td>300.000000</td>\n",
       "      <td>294.000000</td>\n",
       "    </tr>\n",
       "    <tr>\n",
       "      <th>max</th>\n",
       "      <td>50000.000000</td>\n",
       "      <td>595.000000</td>\n",
       "      <td>2444.0000</td>\n",
       "      <td>3814.000000</td>\n",
       "      <td>2909.000000</td>\n",
       "      <td>3359.00000</td>\n",
       "      <td>1448.000000</td>\n",
       "      <td>1.000000</td>\n",
       "      <td>609.000000</td>\n",
       "      <td>608.000000</td>\n",
       "      <td>608.000000</td>\n",
       "      <td>608.000000</td>\n",
       "      <td>608.000000</td>\n",
       "      <td>608.000000</td>\n",
       "    </tr>\n",
       "  </tbody>\n",
       "</table>\n",
       "</div>"
      ],
      "text/plain": [
       "            USER_ID  TOTAL_VISIT_COUNT  TOTAL_POST_COUNT  \\\n",
       "count  50000.000000       50000.000000        50000.0000   \n",
       "mean   25000.500000          80.323280            3.2949   \n",
       "std    14433.901067          99.401578           12.3165   \n",
       "min        1.000000           1.000000            1.0000   \n",
       "25%    12500.750000          15.000000            1.0000   \n",
       "50%    25000.500000          39.000000            2.0000   \n",
       "75%    37500.250000         104.000000            3.0000   \n",
       "max    50000.000000         595.000000         2444.0000   \n",
       "\n",
       "       TOTAL_LIKES_RECEIVED  TOTAL_COMMENTS_RECEIVED  TOTAL_LIKES_GIVEN  \\\n",
       "count          50000.000000             50000.000000        50000.00000   \n",
       "mean               4.047600                 6.966360            6.48192   \n",
       "std               20.300791                19.458295           33.78831   \n",
       "min                0.000000                 0.000000            0.00000   \n",
       "25%                0.000000                 1.000000            0.00000   \n",
       "50%                1.000000                 3.000000            1.00000   \n",
       "75%                4.000000                 7.000000            5.00000   \n",
       "max             3814.000000              2909.000000         3359.00000   \n",
       "\n",
       "       TOTAL_COMMENTS_WRITTEN   CHURNED_INT  DAYS_SINCE_LAST_VISIT  \\\n",
       "count            50000.000000  50000.000000           50000.000000   \n",
       "mean                 4.711460      0.500000             132.415980   \n",
       "std                 17.332352      0.500005             153.903945   \n",
       "min                  0.000000      0.000000               0.000000   \n",
       "25%                  0.000000      0.000000               5.000000   \n",
       "50%                  1.000000      0.500000              61.500000   \n",
       "75%                  4.000000      1.000000             231.000000   \n",
       "max               1448.000000      1.000000             609.000000   \n",
       "\n",
       "       DAYS_SINCE_LAST_POST  DAYS_SINCE_LAST_LIKE_RECEIVED  \\\n",
       "count          50000.000000                   50000.000000   \n",
       "mean             273.281480                     171.624880   \n",
       "std              168.714348                     185.851063   \n",
       "min                0.000000                      -1.000000   \n",
       "25%              123.000000                      -1.000000   \n",
       "50%              274.000000                     105.000000   \n",
       "75%              412.000000                     328.000000   \n",
       "max              608.000000                     608.000000   \n",
       "\n",
       "       DAYS_SINCE_LAST_COMMENT_RECEIVED  DAYS_SINCE_LAST_LIKE_GIVEN  \\\n",
       "count                      50000.000000                50000.000000   \n",
       "mean                         205.378220                  158.617580   \n",
       "std                          185.608978                  181.409884   \n",
       "min                           -1.000000                   -1.000000   \n",
       "25%                            3.000000                   -1.000000   \n",
       "50%                          180.000000                   75.000000   \n",
       "75%                          364.000000                  300.000000   \n",
       "max                          608.000000                  608.000000   \n",
       "\n",
       "       DAYS_SINCE_LAST_COMMENT_WRITTEN  \n",
       "count                     50000.000000  \n",
       "mean                        155.773140  \n",
       "std                         180.332539  \n",
       "min                          -1.000000  \n",
       "25%                          -1.000000  \n",
       "50%                          71.000000  \n",
       "75%                         294.000000  \n",
       "max                         608.000000  "
      ]
     },
     "execution_count": 40,
     "metadata": {},
     "output_type": "execute_result"
    }
   ],
   "source": [
    "df.describe()"
   ]
  },
  {
   "cell_type": "code",
   "execution_count": 41,
   "id": "d5076f23-f19b-469a-afa4-4745ecb9db12",
   "metadata": {
    "tags": []
   },
   "outputs": [
    {
     "data": {
      "image/png": "[encoded data removed]",
      "text/plain": [
       "<Figure size 800x600 with 1 Axes>"
      ]
     },
     "metadata": {},
     "output_type": "display_data"
    }
   ],
   "source": [
    "plt.figure(figsize=(8, 6))\n",
    "plt.boxplot([df.loc[df.CHURNED==True,'TOTAL_POST_COUNT'], df.loc[df.CHURNED==False,'TOTAL_POST_COUNT']], labels=['True', 'False'])\n",
    "plt.xlabel('CHURNED')\n",
    "plt.ylabel('TOTAL_POST_COUNT')\n",
    "plt.title('Boxplot of TOTAL_POST_COUNT by CHURNED')\n",
    "plt.show()"
   ]
  },
  {
   "cell_type": "code",
   "execution_count": 42,
   "id": "edbedeef-82c4-4626-a448-77632aeca6df",
   "metadata": {
    "tags": []
   },
   "outputs": [
    {
     "data": {
      "text/plain": [
       "CHURNED\n",
       "False    2444\n",
       "True      405\n",
       "Name: TOTAL_POST_COUNT, dtype: int64"
      ]
     },
     "execution_count": 42,
     "metadata": {},
     "output_type": "execute_result"
    }
   ],
   "source": [
    "df.groupby('CHURNED').TOTAL_POST_COUNT.max()"
   ]
  },
  {
   "cell_type": "code",
   "execution_count": 43,
   "id": "fb283f59-a767-41e9-93a3-ed2f8a2e402a",
   "metadata": {
    "tags": []
   },
   "outputs": [
    {
     "data": {
      "text/plain": [
       "CHURNED\n",
       "False    180\n",
       "True     140\n",
       "Name: TOTAL_POST_COUNT, dtype: int64"
      ]
     },
     "execution_count": 43,
     "metadata": {},
     "output_type": "execute_result"
    }
   ],
   "source": [
    "# Removing clear outliers\n",
    "df_no_outliers = df[df['TOTAL_POST_COUNT'] < 405]\n",
    "df_no_outliers.groupby('CHURNED').TOTAL_POST_COUNT.max()"
   ]
  },
  {
   "cell_type": "code",
   "execution_count": 44,
   "id": "9e9645d0-d3e4-437b-9422-8ee6f998ffc5",
   "metadata": {
    "tags": []
   },
   "outputs": [
    {
     "data": {
      "text/html": [
       "<div>\n",
       "<style scoped>\n",
       "    .dataframe tbody tr th:only-of-type {\n",
       "        vertical-align: middle;\n",
       "    }\n",
       "\n",
       "    .dataframe tbody tr th {\n",
       "        vertical-align: top;\n",
       "    }\n",
       "\n",
       "    .dataframe thead th {\n",
       "        text-align: right;\n",
       "    }\n",
       "</style>\n",
       "<table border=\"1\" class=\"dataframe\">\n",
       "  <thead>\n",
       "    <tr style=\"text-align: right;\">\n",
       "      <th></th>\n",
       "      <th>USER_ID</th>\n",
       "      <th>TOTAL_VISIT_COUNT</th>\n",
       "      <th>TOTAL_POST_COUNT</th>\n",
       "      <th>TOTAL_LIKES_RECEIVED</th>\n",
       "      <th>TOTAL_COMMENTS_RECEIVED</th>\n",
       "      <th>TOTAL_LIKES_GIVEN</th>\n",
       "      <th>TOTAL_COMMENTS_WRITTEN</th>\n",
       "      <th>CHURNED_INT</th>\n",
       "      <th>DAYS_SINCE_LAST_VISIT</th>\n",
       "      <th>DAYS_SINCE_LAST_POST</th>\n",
       "      <th>DAYS_SINCE_LAST_LIKE_RECEIVED</th>\n",
       "      <th>DAYS_SINCE_LAST_COMMENT_RECEIVED</th>\n",
       "      <th>DAYS_SINCE_LAST_LIKE_GIVEN</th>\n",
       "      <th>DAYS_SINCE_LAST_COMMENT_WRITTEN</th>\n",
       "    </tr>\n",
       "  </thead>\n",
       "  <tbody>\n",
       "    <tr>\n",
       "      <th>count</th>\n",
       "      <td>49998.000000</td>\n",
       "      <td>49998.000000</td>\n",
       "      <td>49998.000000</td>\n",
       "      <td>49998.000000</td>\n",
       "      <td>49998.000000</td>\n",
       "      <td>49998.000000</td>\n",
       "      <td>49998.000000</td>\n",
       "      <td>49998.000000</td>\n",
       "      <td>49998.000000</td>\n",
       "      <td>49998.000000</td>\n",
       "      <td>49998.000000</td>\n",
       "      <td>49998.000000</td>\n",
       "      <td>49998.000000</td>\n",
       "      <td>49998.000000</td>\n",
       "    </tr>\n",
       "    <tr>\n",
       "      <th>mean</th>\n",
       "      <td>25001.402916</td>\n",
       "      <td>80.307472</td>\n",
       "      <td>3.238050</td>\n",
       "      <td>3.964179</td>\n",
       "      <td>6.903296</td>\n",
       "      <td>6.454558</td>\n",
       "      <td>4.678007</td>\n",
       "      <td>0.500000</td>\n",
       "      <td>132.417717</td>\n",
       "      <td>273.288892</td>\n",
       "      <td>171.628225</td>\n",
       "      <td>205.382895</td>\n",
       "      <td>158.620125</td>\n",
       "      <td>155.775831</td>\n",
       "    </tr>\n",
       "    <tr>\n",
       "      <th>std</th>\n",
       "      <td>14433.483291</td>\n",
       "      <td>99.369263</td>\n",
       "      <td>5.415117</td>\n",
       "      <td>10.917581</td>\n",
       "      <td>14.454407</td>\n",
       "      <td>33.392202</td>\n",
       "      <td>16.053213</td>\n",
       "      <td>0.500005</td>\n",
       "      <td>153.905772</td>\n",
       "      <td>168.712735</td>\n",
       "      <td>185.853194</td>\n",
       "      <td>185.610375</td>\n",
       "      <td>181.412325</td>\n",
       "      <td>180.334775</td>\n",
       "    </tr>\n",
       "    <tr>\n",
       "      <th>min</th>\n",
       "      <td>1.000000</td>\n",
       "      <td>1.000000</td>\n",
       "      <td>1.000000</td>\n",
       "      <td>0.000000</td>\n",
       "      <td>0.000000</td>\n",
       "      <td>0.000000</td>\n",
       "      <td>0.000000</td>\n",
       "      <td>0.000000</td>\n",
       "      <td>0.000000</td>\n",
       "      <td>0.000000</td>\n",
       "      <td>-1.000000</td>\n",
       "      <td>-1.000000</td>\n",
       "      <td>-1.000000</td>\n",
       "      <td>-1.000000</td>\n",
       "    </tr>\n",
       "    <tr>\n",
       "      <th>25%</th>\n",
       "      <td>12502.250000</td>\n",
       "      <td>15.000000</td>\n",
       "      <td>1.000000</td>\n",
       "      <td>0.000000</td>\n",
       "      <td>1.000000</td>\n",
       "      <td>0.000000</td>\n",
       "      <td>0.000000</td>\n",
       "      <td>0.000000</td>\n",
       "      <td>5.000000</td>\n",
       "      <td>123.000000</td>\n",
       "      <td>-1.000000</td>\n",
       "      <td>3.000000</td>\n",
       "      <td>-1.000000</td>\n",
       "      <td>-1.000000</td>\n",
       "    </tr>\n",
       "    <tr>\n",
       "      <th>50%</th>\n",
       "      <td>25001.500000</td>\n",
       "      <td>39.000000</td>\n",
       "      <td>2.000000</td>\n",
       "      <td>1.000000</td>\n",
       "      <td>3.000000</td>\n",
       "      <td>1.000000</td>\n",
       "      <td>1.000000</td>\n",
       "      <td>0.500000</td>\n",
       "      <td>61.500000</td>\n",
       "      <td>274.000000</td>\n",
       "      <td>105.000000</td>\n",
       "      <td>180.000000</td>\n",
       "      <td>75.000000</td>\n",
       "      <td>71.000000</td>\n",
       "    </tr>\n",
       "    <tr>\n",
       "      <th>75%</th>\n",
       "      <td>37500.750000</td>\n",
       "      <td>104.000000</td>\n",
       "      <td>3.000000</td>\n",
       "      <td>4.000000</td>\n",
       "      <td>7.000000</td>\n",
       "      <td>5.000000</td>\n",
       "      <td>4.000000</td>\n",
       "      <td>1.000000</td>\n",
       "      <td>231.000000</td>\n",
       "      <td>412.000000</td>\n",
       "      <td>328.000000</td>\n",
       "      <td>364.000000</td>\n",
       "      <td>300.000000</td>\n",
       "      <td>294.000000</td>\n",
       "    </tr>\n",
       "    <tr>\n",
       "      <th>max</th>\n",
       "      <td>50000.000000</td>\n",
       "      <td>595.000000</td>\n",
       "      <td>180.000000</td>\n",
       "      <td>587.000000</td>\n",
       "      <td>537.000000</td>\n",
       "      <td>3359.000000</td>\n",
       "      <td>946.000000</td>\n",
       "      <td>1.000000</td>\n",
       "      <td>609.000000</td>\n",
       "      <td>608.000000</td>\n",
       "      <td>608.000000</td>\n",
       "      <td>608.000000</td>\n",
       "      <td>608.000000</td>\n",
       "      <td>608.000000</td>\n",
       "    </tr>\n",
       "  </tbody>\n",
       "</table>\n",
       "</div>"
      ],
      "text/plain": [
       "            USER_ID  TOTAL_VISIT_COUNT  TOTAL_POST_COUNT  \\\n",
       "count  49998.000000       49998.000000      49998.000000   \n",
       "mean   25001.402916          80.307472          3.238050   \n",
       "std    14433.483291          99.369263          5.415117   \n",
       "min        1.000000           1.000000          1.000000   \n",
       "25%    12502.250000          15.000000          1.000000   \n",
       "50%    25001.500000          39.000000          2.000000   \n",
       "75%    37500.750000         104.000000          3.000000   \n",
       "max    50000.000000         595.000000        180.000000   \n",
       "\n",
       "       TOTAL_LIKES_RECEIVED  TOTAL_COMMENTS_RECEIVED  TOTAL_LIKES_GIVEN  \\\n",
       "count          49998.000000             49998.000000       49998.000000   \n",
       "mean               3.964179                 6.903296           6.454558   \n",
       "std               10.917581                14.454407          33.392202   \n",
       "min                0.000000                 0.000000           0.000000   \n",
       "25%                0.000000                 1.000000           0.000000   \n",
       "50%                1.000000                 3.000000           1.000000   \n",
       "75%                4.000000                 7.000000           5.000000   \n",
       "max              587.000000               537.000000        3359.000000   \n",
       "\n",
       "       TOTAL_COMMENTS_WRITTEN   CHURNED_INT  DAYS_SINCE_LAST_VISIT  \\\n",
       "count            49998.000000  49998.000000           49998.000000   \n",
       "mean                 4.678007      0.500000             132.417717   \n",
       "std                 16.053213      0.500005             153.905772   \n",
       "min                  0.000000      0.000000               0.000000   \n",
       "25%                  0.000000      0.000000               5.000000   \n",
       "50%                  1.000000      0.500000              61.500000   \n",
       "75%                  4.000000      1.000000             231.000000   \n",
       "max                946.000000      1.000000             609.000000   \n",
       "\n",
       "       DAYS_SINCE_LAST_POST  DAYS_SINCE_LAST_LIKE_RECEIVED  \\\n",
       "count          49998.000000                   49998.000000   \n",
       "mean             273.288892                     171.628225   \n",
       "std              168.712735                     185.853194   \n",
       "min                0.000000                      -1.000000   \n",
       "25%              123.000000                      -1.000000   \n",
       "50%              274.000000                     105.000000   \n",
       "75%              412.000000                     328.000000   \n",
       "max              608.000000                     608.000000   \n",
       "\n",
       "       DAYS_SINCE_LAST_COMMENT_RECEIVED  DAYS_SINCE_LAST_LIKE_GIVEN  \\\n",
       "count                      49998.000000                49998.000000   \n",
       "mean                         205.382895                  158.620125   \n",
       "std                          185.610375                  181.412325   \n",
       "min                           -1.000000                   -1.000000   \n",
       "25%                            3.000000                   -1.000000   \n",
       "50%                          180.000000                   75.000000   \n",
       "75%                          364.000000                  300.000000   \n",
       "max                          608.000000                  608.000000   \n",
       "\n",
       "       DAYS_SINCE_LAST_COMMENT_WRITTEN  \n",
       "count                     49998.000000  \n",
       "mean                        155.775831  \n",
       "std                         180.334775  \n",
       "min                          -1.000000  \n",
       "25%                          -1.000000  \n",
       "50%                          71.000000  \n",
       "75%                         294.000000  \n",
       "max                         608.000000  "
      ]
     },
     "execution_count": 44,
     "metadata": {},
     "output_type": "execute_result"
    }
   ],
   "source": [
    "df_no_outliers.describe()"
   ]
  },
  {
   "cell_type": "code",
   "execution_count": 45,
   "id": "35aea365-d789-4eda-8335-34fba7c1f174",
   "metadata": {
    "tags": []
   },
   "outputs": [
    {
     "name": "stderr",
     "output_type": "stream",
     "text": [
      "C:\\Users\\meira\\AppData\\Local\\Temp\\ipykernel_28984\\3415536074.py:10: SettingWithCopyWarning: \n",
      "A value is trying to be set on a copy of a slice from a DataFrame.\n",
      "Try using .loc[row_indexer,col_indexer] = value instead\n",
      "\n",
      "See the caveats in the documentation: https://pandas.pydata.org/pandas-docs/stable/user_guide/indexing.html#returning-a-view-versus-a-copy\n",
      "  df_no_outliers['POST_CAT'] = np.select(conditions, categories, default='Unknown')\n"
     ]
    },
    {
     "data": {
      "text/html": [
       "<div>\n",
       "<style scoped>\n",
       "    .dataframe tbody tr th:only-of-type {\n",
       "        vertical-align: middle;\n",
       "    }\n",
       "\n",
       "    .dataframe tbody tr th {\n",
       "        vertical-align: top;\n",
       "    }\n",
       "\n",
       "    .dataframe thead th {\n",
       "        text-align: right;\n",
       "    }\n",
       "</style>\n",
       "<table border=\"1\" class=\"dataframe\">\n",
       "  <thead>\n",
       "    <tr style=\"text-align: right;\">\n",
       "      <th>POST_CAT</th>\n",
       "      <th>1 post only</th>\n",
       "      <th>3 or more posts</th>\n",
       "      <th>Up to 3 posts</th>\n",
       "    </tr>\n",
       "    <tr>\n",
       "      <th>CHURNED</th>\n",
       "      <th></th>\n",
       "      <th></th>\n",
       "      <th></th>\n",
       "    </tr>\n",
       "  </thead>\n",
       "  <tbody>\n",
       "    <tr>\n",
       "      <th>False</th>\n",
       "      <td>8344</td>\n",
       "      <td>11639</td>\n",
       "      <td>5016</td>\n",
       "    </tr>\n",
       "    <tr>\n",
       "      <th>True</th>\n",
       "      <td>14918</td>\n",
       "      <td>5270</td>\n",
       "      <td>4811</td>\n",
       "    </tr>\n",
       "  </tbody>\n",
       "</table>\n",
       "</div>"
      ],
      "text/plain": [
       "POST_CAT  1 post only  3 or more posts  Up to 3 posts\n",
       "CHURNED                                              \n",
       "False            8344            11639           5016\n",
       "True            14918             5270           4811"
      ]
     },
     "execution_count": 45,
     "metadata": {},
     "output_type": "execute_result"
    }
   ],
   "source": [
    "# Category for users based on amount of posts\n",
    "conditions = [\n",
    "    (df_no_outliers['TOTAL_POST_COUNT'] < 2),\n",
    "    (df_no_outliers['TOTAL_POST_COUNT'] >= 2) & (df_no_outliers['TOTAL_POST_COUNT'] < 3),\n",
    "    (df_no_outliers['TOTAL_POST_COUNT'] >= 3)\n",
    "]\n",
    "categories = ['1 post only', 'Up to 3 posts', '3 or more posts']\n",
    "\n",
    "# Use np.where to create the 'Category' column\n",
    "df_no_outliers['POST_CAT'] = np.select(conditions, categories, default='Unknown')\n",
    "\n",
    "pd.crosstab(df_no_outliers['CHURNED'], df_no_outliers['POST_CAT'])"
   ]
  },
  {
   "cell_type": "code",
   "execution_count": 46,
   "id": "e70057ac",
   "metadata": {
    "tags": []
   },
   "outputs": [
    {
     "data": {
      "image/png": "[encoded data removed]",
      "text/plain": [
       "<Figure size 640x480 with 1 Axes>"
      ]
     },
     "metadata": {},
     "output_type": "display_data"
    }
   ],
   "source": [
    "# churn vs. average days since last posts\n",
    "ax = df.groupby('CHURNED')['DAYS_SINCE_LAST_POST'].mean().plot.barh(color=['blue', 'orange'])\n",
    "plt.xlabel('DAYS_SINCE_LAST_POST')\n",
    "plt.title('Average days since last post by churn status')\n",
    "\n",
    "# Add labels to the bars\n",
    "for i in ax.patches:\n",
    "    ax.text(i.get_width() + 0.1, i.get_y() + 0.1, f'{i.get_width():.0f}', fontsize=12, color='black')\n",
    "\n",
    "\n",
    "# Show the plot\n",
    "plt.show()"
   ]
  },
  {
   "cell_type": "code",
   "execution_count": 47,
   "id": "2a7bfa48-2b49-420f-8afc-f03317ac3808",
   "metadata": {
    "tags": []
   },
   "outputs": [
    {
     "data": {
      "image/png": "[encoded data removed]",
      "text/plain": [
       "<Figure size 800x600 with 1 Axes>"
      ]
     },
     "metadata": {},
     "output_type": "display_data"
    }
   ],
   "source": [
    "plt.figure(figsize=(8, 6))\n",
    "plt.boxplot([df.loc[df.CHURNED==True,'DAYS_SINCE_LAST_POST'], df.loc[df.CHURNED==False,'DAYS_SINCE_LAST_POST']], labels=['True', 'False'])\n",
    "plt.xlabel('CHURNED')\n",
    "plt.ylabel('DAYS_SINCE_LAST_POST')\n",
    "plt.title('Boxplot of DAYS_SINCE_LAST_POST by CHURNED')\n",
    "plt.show()"
   ]
  },
  {
   "cell_type": "code",
   "execution_count": 48,
   "id": "c12d6c35-4ae5-43ed-9ea6-7fdce0be174c",
   "metadata": {
    "tags": []
   },
   "outputs": [
    {
     "data": {
      "text/html": [
       "<div>\n",
       "<style scoped>\n",
       "    .dataframe tbody tr th:only-of-type {\n",
       "        vertical-align: middle;\n",
       "    }\n",
       "\n",
       "    .dataframe tbody tr th {\n",
       "        vertical-align: top;\n",
       "    }\n",
       "\n",
       "    .dataframe thead th {\n",
       "        text-align: right;\n",
       "    }\n",
       "</style>\n",
       "<table border=\"1\" class=\"dataframe\">\n",
       "  <thead>\n",
       "    <tr style=\"text-align: right;\">\n",
       "      <th></th>\n",
       "      <th>count</th>\n",
       "      <th>mean</th>\n",
       "      <th>std</th>\n",
       "      <th>min</th>\n",
       "      <th>25%</th>\n",
       "      <th>50%</th>\n",
       "      <th>75%</th>\n",
       "      <th>max</th>\n",
       "    </tr>\n",
       "    <tr>\n",
       "      <th>CHURNED</th>\n",
       "      <th></th>\n",
       "      <th></th>\n",
       "      <th></th>\n",
       "      <th></th>\n",
       "      <th></th>\n",
       "      <th></th>\n",
       "      <th></th>\n",
       "      <th></th>\n",
       "    </tr>\n",
       "  </thead>\n",
       "  <tbody>\n",
       "    <tr>\n",
       "      <th>False</th>\n",
       "      <td>25000.0</td>\n",
       "      <td>183.72244</td>\n",
       "      <td>153.071503</td>\n",
       "      <td>0.0</td>\n",
       "      <td>52.0</td>\n",
       "      <td>142.0</td>\n",
       "      <td>288.0</td>\n",
       "      <td>608.0</td>\n",
       "    </tr>\n",
       "    <tr>\n",
       "      <th>True</th>\n",
       "      <td>25000.0</td>\n",
       "      <td>362.84052</td>\n",
       "      <td>132.125059</td>\n",
       "      <td>61.0</td>\n",
       "      <td>266.0</td>\n",
       "      <td>371.0</td>\n",
       "      <td>467.0</td>\n",
       "      <td>608.0</td>\n",
       "    </tr>\n",
       "  </tbody>\n",
       "</table>\n",
       "</div>"
      ],
      "text/plain": [
       "           count       mean         std   min    25%    50%    75%    max\n",
       "CHURNED                                                                  \n",
       "False    25000.0  183.72244  153.071503   0.0   52.0  142.0  288.0  608.0\n",
       "True     25000.0  362.84052  132.125059  61.0  266.0  371.0  467.0  608.0"
      ]
     },
     "execution_count": 48,
     "metadata": {},
     "output_type": "execute_result"
    }
   ],
   "source": [
    "df.groupby('CHURNED').DAYS_SINCE_LAST_POST.describe()"
   ]
  },
  {
   "cell_type": "code",
   "execution_count": 101,
   "id": "5b831a48-24a9-42b1-98c6-8ba4f7edb233",
   "metadata": {
    "tags": []
   },
   "outputs": [
    {
     "data": {
      "text/html": [
       "<div>\n",
       "<style scoped>\n",
       "    .dataframe tbody tr th:only-of-type {\n",
       "        vertical-align: middle;\n",
       "    }\n",
       "\n",
       "    .dataframe tbody tr th {\n",
       "        vertical-align: top;\n",
       "    }\n",
       "\n",
       "    .dataframe thead th {\n",
       "        text-align: right;\n",
       "    }\n",
       "</style>\n",
       "<table border=\"1\" class=\"dataframe\">\n",
       "  <thead>\n",
       "    <tr style=\"text-align: right;\">\n",
       "      <th>LAST_POST_CAT</th>\n",
       "      <th>Last 120d</th>\n",
       "      <th>Last 210d</th>\n",
       "      <th>Last 60d</th>\n",
       "      <th>No post for over 210d</th>\n",
       "    </tr>\n",
       "    <tr>\n",
       "      <th>CHURNED</th>\n",
       "      <th></th>\n",
       "      <th></th>\n",
       "      <th></th>\n",
       "      <th></th>\n",
       "    </tr>\n",
       "  </thead>\n",
       "  <tbody>\n",
       "    <tr>\n",
       "      <th>False</th>\n",
       "      <td>4172</td>\n",
       "      <td>4404</td>\n",
       "      <td>7007</td>\n",
       "      <td>9417</td>\n",
       "    </tr>\n",
       "    <tr>\n",
       "      <th>True</th>\n",
       "      <td>1022</td>\n",
       "      <td>2509</td>\n",
       "      <td>0</td>\n",
       "      <td>21469</td>\n",
       "    </tr>\n",
       "  </tbody>\n",
       "</table>\n",
       "</div>"
      ],
      "text/plain": [
       "LAST_POST_CAT  Last 120d  Last 210d  Last 60d  No post for over 210d\n",
       "CHURNED                                                             \n",
       "False               4172       4404      7007                   9417\n",
       "True                1022       2509         0                  21469"
      ]
     },
     "execution_count": 101,
     "metadata": {},
     "output_type": "execute_result"
    }
   ],
   "source": [
    "# Category for users based on amount of posts\n",
    "conditions = [\n",
    "    (df['DAYS_SINCE_LAST_POST'] < 60),\n",
    "    (df['DAYS_SINCE_LAST_POST'] >= 60) & (df['DAYS_SINCE_LAST_POST'] < 120),\n",
    "    (df['DAYS_SINCE_LAST_POST'] >= 120) & (df['DAYS_SINCE_LAST_POST'] < 210),\n",
    "    (df['DAYS_SINCE_LAST_POST'] >= 210)\n",
    "]\n",
    "categories = ['Last 60d', 'Last 120d', 'Last 210d', 'No post for over 210d']\n",
    "\n",
    "# Use np.where to create the 'Category' column\n",
    "df['LAST_POST_CAT'] = np.select(conditions, categories, default='Unknown')\n",
    "\n",
    "pd.crosstab(df['CHURNED'], df['LAST_POST_CAT'])"
   ]
  },
  {
   "cell_type": "markdown",
   "id": "c07cc6ed-1a86-4063-b738-fc30d5d159a5",
   "metadata": {
    "jp-MarkdownHeadingCollapsed": true,
    "tags": []
   },
   "source": [
    "### 3.3.3 Likes"
   ]
  },
  {
   "cell_type": "code",
   "execution_count": 50,
   "id": "9f4be0eb-a6a3-4f8c-8f3c-736538f9b506",
   "metadata": {
    "tags": []
   },
   "outputs": [
    {
     "data": {
      "image/png": "[encoded data removed]",
      "text/plain": [
       "<Figure size 640x480 with 1 Axes>"
      ]
     },
     "metadata": {},
     "output_type": "display_data"
    }
   ],
   "source": [
    "# churn vs. average number of likes given\n",
    "ax = df.groupby('CHURNED')['TOTAL_LIKES_GIVEN'].mean().plot.barh(color=['blue', 'orange'])\n",
    "plt.xlabel('TOTAL_LIKES_GIVEN')\n",
    "plt.title('Average number of likes given by churn status')\n",
    "\n",
    "# Add labels to the bars\n",
    "for i in ax.patches:\n",
    "    ax.text(i.get_width() + 0.1, i.get_y() + 0.1, f'{i.get_width():.0f}', fontsize=12, color='black')\n",
    "\n",
    "\n",
    "# Show the plot\n",
    "plt.show()"
   ]
  },
  {
   "cell_type": "code",
   "execution_count": 51,
   "id": "d73b1747-343f-4122-9b3c-1212cbeacec5",
   "metadata": {
    "tags": []
   },
   "outputs": [
    {
     "data": {
      "image/png": "[encoded data removed]",
      "text/plain": [
       "<Figure size 800x600 with 1 Axes>"
      ]
     },
     "metadata": {},
     "output_type": "display_data"
    }
   ],
   "source": [
    "plt.figure(figsize=(8, 6))\n",
    "plt.boxplot([df.loc[df.CHURNED==True,'TOTAL_LIKES_GIVEN'], df.loc[df.CHURNED==False,'TOTAL_LIKES_GIVEN']], labels=['True', 'False'])\n",
    "plt.xlabel('CHURNED')\n",
    "plt.ylabel('TOTAL_LIKES_GIVEN')\n",
    "plt.title('Boxplot of TOTAL_LIKES_GIVEN by CHURNED')\n",
    "plt.show()"
   ]
  },
  {
   "cell_type": "code",
   "execution_count": 52,
   "id": "d1ab6684-5cc4-4989-812e-19cbeae5a68d",
   "metadata": {
    "tags": []
   },
   "outputs": [
    {
     "data": {
      "text/html": [
       "<div>\n",
       "<style scoped>\n",
       "    .dataframe tbody tr th:only-of-type {\n",
       "        vertical-align: middle;\n",
       "    }\n",
       "\n",
       "    .dataframe tbody tr th {\n",
       "        vertical-align: top;\n",
       "    }\n",
       "\n",
       "    .dataframe thead th {\n",
       "        text-align: right;\n",
       "    }\n",
       "</style>\n",
       "<table border=\"1\" class=\"dataframe\">\n",
       "  <thead>\n",
       "    <tr style=\"text-align: right;\">\n",
       "      <th></th>\n",
       "      <th>count</th>\n",
       "      <th>mean</th>\n",
       "      <th>std</th>\n",
       "      <th>min</th>\n",
       "      <th>25%</th>\n",
       "      <th>50%</th>\n",
       "      <th>75%</th>\n",
       "      <th>max</th>\n",
       "    </tr>\n",
       "    <tr>\n",
       "      <th>CHURNED</th>\n",
       "      <th></th>\n",
       "      <th></th>\n",
       "      <th></th>\n",
       "      <th></th>\n",
       "      <th></th>\n",
       "      <th></th>\n",
       "      <th></th>\n",
       "      <th></th>\n",
       "    </tr>\n",
       "  </thead>\n",
       "  <tbody>\n",
       "    <tr>\n",
       "      <th>False</th>\n",
       "      <td>25000.0</td>\n",
       "      <td>9.85240</td>\n",
       "      <td>45.450888</td>\n",
       "      <td>0.0</td>\n",
       "      <td>0.0</td>\n",
       "      <td>2.0</td>\n",
       "      <td>8.0</td>\n",
       "      <td>3359.0</td>\n",
       "    </tr>\n",
       "    <tr>\n",
       "      <th>True</th>\n",
       "      <td>25000.0</td>\n",
       "      <td>3.11144</td>\n",
       "      <td>13.958548</td>\n",
       "      <td>0.0</td>\n",
       "      <td>0.0</td>\n",
       "      <td>1.0</td>\n",
       "      <td>3.0</td>\n",
       "      <td>858.0</td>\n",
       "    </tr>\n",
       "  </tbody>\n",
       "</table>\n",
       "</div>"
      ],
      "text/plain": [
       "           count     mean        std  min  25%  50%  75%     max\n",
       "CHURNED                                                         \n",
       "False    25000.0  9.85240  45.450888  0.0  0.0  2.0  8.0  3359.0\n",
       "True     25000.0  3.11144  13.958548  0.0  0.0  1.0  3.0   858.0"
      ]
     },
     "execution_count": 52,
     "metadata": {},
     "output_type": "execute_result"
    }
   ],
   "source": [
    "df.groupby('CHURNED').TOTAL_LIKES_GIVEN.describe()"
   ]
  },
  {
   "cell_type": "code",
   "execution_count": 53,
   "id": "52e66988-58f1-4976-9035-edbc3d536cbc",
   "metadata": {
    "tags": []
   },
   "outputs": [
    {
     "data": {
      "text/html": [
       "<div>\n",
       "<style scoped>\n",
       "    .dataframe tbody tr th:only-of-type {\n",
       "        vertical-align: middle;\n",
       "    }\n",
       "\n",
       "    .dataframe tbody tr th {\n",
       "        vertical-align: top;\n",
       "    }\n",
       "\n",
       "    .dataframe thead th {\n",
       "        text-align: right;\n",
       "    }\n",
       "</style>\n",
       "<table border=\"1\" class=\"dataframe\">\n",
       "  <thead>\n",
       "    <tr style=\"text-align: right;\">\n",
       "      <th></th>\n",
       "      <th>count</th>\n",
       "      <th>mean</th>\n",
       "      <th>std</th>\n",
       "      <th>min</th>\n",
       "      <th>25%</th>\n",
       "      <th>50%</th>\n",
       "      <th>75%</th>\n",
       "      <th>max</th>\n",
       "    </tr>\n",
       "    <tr>\n",
       "      <th>CHURNED</th>\n",
       "      <th></th>\n",
       "      <th></th>\n",
       "      <th></th>\n",
       "      <th></th>\n",
       "      <th></th>\n",
       "      <th></th>\n",
       "      <th></th>\n",
       "      <th></th>\n",
       "    </tr>\n",
       "  </thead>\n",
       "  <tbody>\n",
       "    <tr>\n",
       "      <th>False</th>\n",
       "      <td>24983.0</td>\n",
       "      <td>9.061682</td>\n",
       "      <td>24.895929</td>\n",
       "      <td>0.0</td>\n",
       "      <td>0.0</td>\n",
       "      <td>2.0</td>\n",
       "      <td>8.0</td>\n",
       "      <td>494.0</td>\n",
       "    </tr>\n",
       "    <tr>\n",
       "      <th>True</th>\n",
       "      <td>24997.0</td>\n",
       "      <td>3.021723</td>\n",
       "      <td>11.258114</td>\n",
       "      <td>0.0</td>\n",
       "      <td>0.0</td>\n",
       "      <td>1.0</td>\n",
       "      <td>3.0</td>\n",
       "      <td>362.0</td>\n",
       "    </tr>\n",
       "  </tbody>\n",
       "</table>\n",
       "</div>"
      ],
      "text/plain": [
       "           count      mean        std  min  25%  50%  75%    max\n",
       "CHURNED                                                         \n",
       "False    24983.0  9.061682  24.895929  0.0  0.0  2.0  8.0  494.0\n",
       "True     24997.0  3.021723  11.258114  0.0  0.0  1.0  3.0  362.0"
      ]
     },
     "execution_count": 53,
     "metadata": {},
     "output_type": "execute_result"
    }
   ],
   "source": [
    "# Removing outliers\n",
    "df_no_outliers = df[df['TOTAL_LIKES_GIVEN'] < 500]\n",
    "df_no_outliers.groupby('CHURNED').TOTAL_LIKES_GIVEN.describe()"
   ]
  },
  {
   "cell_type": "code",
   "execution_count": 54,
   "id": "e9b75620-ec46-40d7-ac2b-403fe33405f8",
   "metadata": {
    "tags": []
   },
   "outputs": [
    {
     "data": {
      "image/png": "[encoded data removed]",
      "text/plain": [
       "<Figure size 800x600 with 1 Axes>"
      ]
     },
     "metadata": {},
     "output_type": "display_data"
    }
   ],
   "source": [
    "plt.figure(figsize=(8, 6))\n",
    "plt.boxplot([df_no_outliers.loc[df_no_outliers.CHURNED==True,'TOTAL_LIKES_GIVEN'], df_no_outliers.loc[df.CHURNED==False,'TOTAL_LIKES_GIVEN']], labels=['True', 'False'])\n",
    "plt.xlabel('CHURNED')\n",
    "plt.ylabel('TOTAL_LIKES_GIVEN')\n",
    "plt.title('Boxplot of TOTAL_LIKES_GIVEN by CHURNED')\n",
    "plt.show()"
   ]
  },
  {
   "cell_type": "markdown",
   "id": "468a0bcb-c1db-4d0a-8b4e-567a85dd17c4",
   "metadata": {
    "jp-MarkdownHeadingCollapsed": true,
    "tags": []
   },
   "source": [
    "# 4 Churn model\n",
    "\n",
    "Considering the definition of churned user as: \n",
    "* We define a user \"churned\" if they did not visit within the last two months \n",
    "\n",
    "A good approximation is to consider a month having 30 days and therefore user churns if the amount of days since the last visit is equal or more than 60.\n",
    "\n",
    "\n",
    "### Note regarding usefulness of the model\n",
    "* At any given day, it is possible to calculate how many days have passed since the user's last visit, and compare it with our churn threshold of 60. _A prediction model is unnecessary to see who are the churned users of the current or past day(s)._\n",
    "\n",
    "+ The code below is to show I can train a model using python, but I would never deploy this model because it was trained on a dataset with variables calculated with the same reference date as the churn calculation."
   ]
  },
  {
   "cell_type": "markdown",
   "id": "aef55d93-358e-4192-a016-2f4482845a1e",
   "metadata": {},
   "source": [
    "### Nomenclarute\n",
    "- The date on which dataset was extracted, or created, is the _reference date_, which is for this excercise 2023-10-31.\n",
    "\n",
    "- In this dataset, user activity that happened before up until the reference date is aggregated in the variables TOTAL_VISIT_COUNT, TOTAL_POST_COUNT and the other COUNT variables. Thus, the data could only be used for training a predictive model that aims to identify churned users on a future date, that is, after the reference date.\n",
    "\n",
    "- I continue the exercise in that direction, but then it is not possible to assess any real model performance with this dataset. Because in the data there is no CHURNED flag calculated on such future date. \n",
    "\n",
    "### Alternative for training a model that goes to production\n",
    "An alternative is to consider the CHURNED flag on the reference date as is, but calculate all the user activity variables based on another data extract, that filters data only up until another date, before the reference date. It could be a few days, weeks or months in advance of the churn calculation reference day. It should be enough in advance so that it allows for the execution and effect of a set of user retention strategies. That is:\n",
    "* A predictive horizon is the time frame between the dataset extraction date and the date of the prediction outcome. The horizon should be aligned with business/marketing stakeholders who plan and execute the strategies for user retention."
   ]
  },
  {
   "cell_type": "markdown",
   "id": "0a345a1b-65fa-4782-bf88-fe93ef79a3ef",
   "metadata": {},
   "source": [
    "#### Example of how the model task could be better defined: \n",
    "* Create a model to predict the probability of users to churn on 2023-10-31. Considering the churn definition as given, and the training data only the user activity up to 3 days before the churn calculation date. For this example, I am choosing to work with a **3-day predictive horizon.**\n",
    "  * user activity reference date = 2023-10-28\n",
    "\n",
    "Note, I don't have domain expertise in a product such as yours (discussion forum), rather in retail and e-commerce. I believe the user retention campaigns are very distinct. I would like to hear from you, if 3 days in advance makes sense for your business. \n",
    "\n",
    "  * Training data: all activity up to 2023-10-28 for the users that registered in the platform from 2022-02-27 to 2023-03-01. \n",
    "  * Target: predict churn status on 2023-10-31"
   ]
  },
  {
   "cell_type": "markdown",
   "id": "a1aa9e95-ac22-440a-bf0d-1b6e63e3e76b",
   "metadata": {},
   "source": [
    "#### Model choice: logistic regression\n",
    "\n",
    "It fits with the problem at hand, to classify a boolean variable. Logistic regression provides a probability score, thus my model will be able to give a probability of churn for each user.\n",
    "\n",
    "This is my first choice when working with numerical variables and prediction of a boolean variable, which are both the case here.\n",
    "It is also an efficient model that doesn't require high computation power and doesn't require scaling of the features. I get results quickly.\n",
    "Finally, its results are easily interpretable: we can check the coefficient of each feature to understand their individiual impact in the final probability score. It is also possible to check if the features are statistically significant to the model, by looking at ach of their  p-value."
   ]
  },
  {
   "cell_type": "markdown",
   "id": "450ce99c-b8d5-48f8-9a13-f8707fe54343",
   "metadata": {
    "tags": []
   },
   "source": [
    "### Training and test set\n",
    "\n",
    "I will train two independent models to show the issue with the proposed task in practice:\n",
    "- A) Use the variable days passed since last visit\n",
    "- B) Do not use the variable days passed since last visit"
   ]
  },
  {
   "cell_type": "markdown",
   "id": "60753c69-a8bd-4bdc-8443-38e68313d94b",
   "metadata": {
    "jp-MarkdownHeadingCollapsed": true,
    "tags": []
   },
   "source": [
    "### Model A"
   ]
  },
  {
   "cell_type": "code",
   "execution_count": 53,
   "id": "de053d2a-090d-4813-bb6b-7a2aa443debc",
   "metadata": {
    "tags": []
   },
   "outputs": [
    {
     "data": {
      "text/plain": [
       "array([[6328,    0],\n",
       "       [   0, 6172]], dtype=int64)"
      ]
     },
     "execution_count": 53,
     "metadata": {},
     "output_type": "execute_result"
    }
   ],
   "source": [
    "# moderate or high relationship variables only\n",
    "# Model A with days passed since last vist\n",
    "variables_for_churn_prediction_a = ['TOTAL_VISIT_COUNT','DAYS_SINCE_LAST_POST','DAYS_SINCE_LAST_VISIT']\n",
    "\n",
    "X = df[variables_for_churn_prediction_a]\n",
    "y = df['CHURNED_INT']\n",
    "\n",
    "X_train, X_test, y_train, y_test = train_test_split(X, y, test_size=0.25, random_state=42)\n",
    "\n",
    "logreg_a = LogisticRegression(random_state=42)\n",
    "logreg_a.fit(X_train, y_train)\n",
    "\n",
    "y_pred_a = logreg_a.predict(X_test)\n",
    "cnf_matrix_a = metrics.confusion_matrix(y_test, y_pred_a)\n",
    "cnf_matrix_a"
   ]
  },
  {
   "cell_type": "code",
   "execution_count": 54,
   "id": "82a1f3d6-040b-43ae-8023-70b36566e16c",
   "metadata": {
    "tags": []
   },
   "outputs": [
    {
     "data": {
      "text/plain": [
       "array([0, 1], dtype=int64)"
      ]
     },
     "execution_count": 54,
     "metadata": {},
     "output_type": "execute_result"
    }
   ],
   "source": [
    "logreg_a.classes_"
   ]
  },
  {
   "cell_type": "code",
   "execution_count": 87,
   "id": "b7ef5226-2f93-4b80-a374-c8a5c534feac",
   "metadata": {
    "tags": []
   },
   "outputs": [
    {
     "data": {
      "image/png": "[encoded data removed]",
      "text/plain": [
       "<Figure size 400x200 with 2 Axes>"
      ]
     },
     "metadata": {},
     "output_type": "display_data"
    }
   ],
   "source": [
    "class_names = ['Non-Churned','Churned'] \n",
    "\n",
    "fig, ax = plt.subplots(figsize=(4,2))\n",
    "tick_marks = np.arange(len(class_names))\n",
    "plt.xticks(tick_marks, class_names)\n",
    "plt.yticks(tick_marks, class_names)\n",
    "\n",
    "\n",
    "sns.heatmap(pd.DataFrame(cnf_matrix_a), annot=True, cmap=\"YlGnBu\" ,fmt='g')\n",
    "ax.xaxis.set_label_position(\"top\")\n",
    "plt.tight_layout()\n",
    "plt.title('Confusion matrix, Model A', y=1.1)\n",
    "plt.ylabel('Actual label')\n",
    "plt.xlabel('Predicted label');"
   ]
  },
  {
   "cell_type": "code",
   "execution_count": 56,
   "id": "eb648438-d177-4434-844d-faa3d08f9cd2",
   "metadata": {
    "tags": []
   },
   "outputs": [
    {
     "name": "stdout",
     "output_type": "stream",
     "text": [
      "              precision    recall  f1-score   support\n",
      "\n",
      " Non-Churned       1.00      1.00      1.00      6328\n",
      "     Churned       1.00      1.00      1.00      6172\n",
      "\n",
      "    accuracy                           1.00     12500\n",
      "   macro avg       1.00      1.00      1.00     12500\n",
      "weighted avg       1.00      1.00      1.00     12500\n",
      "\n"
     ]
    }
   ],
   "source": [
    "print(metrics.classification_report(y_test, y_pred_a, target_names=class_names))"
   ]
  },
  {
   "cell_type": "code",
   "execution_count": 77,
   "id": "66fcecc4-d80c-4210-9a33-e9bf5169c845",
   "metadata": {
    "tags": []
   },
   "outputs": [
    {
     "data": {
      "text/plain": [
       "1.0"
      ]
     },
     "execution_count": 77,
     "metadata": {},
     "output_type": "execute_result"
    }
   ],
   "source": [
    "metrics.r2_score(y_test,y_pred_a)"
   ]
  },
  {
   "cell_type": "code",
   "execution_count": 63,
   "id": "4befa080-161d-48b1-9d8a-2e17294c0263",
   "metadata": {
    "tags": []
   },
   "outputs": [
    {
     "name": "stdout",
     "output_type": "stream",
     "text": [
      "0.0\n",
      "0.0\n",
      "0.0\n"
     ]
    }
   ],
   "source": [
    "from sklearn.feature_selection import f_regression\n",
    "\n",
    "f_statistic, p_values = f_regression(X_train, y_train)\n",
    "\n",
    "for p in p_values:\n",
    "    print(p)"
   ]
  },
  {
   "cell_type": "markdown",
   "id": "ac509e78-8a9b-469d-acb5-42dff647bedf",
   "metadata": {},
   "source": [
    "All variables are statistically significant, since the p-values are lower than the significance value 0.05"
   ]
  },
  {
   "cell_type": "code",
   "execution_count": 82,
   "id": "561ac095-cb2c-4427-861a-46b24c99f207",
   "metadata": {
    "tags": []
   },
   "outputs": [
    {
     "data": {
      "image/png": "[encoded data removed]",
      "text/plain": [
       "<Figure size 500x300 with 1 Axes>"
      ]
     },
     "metadata": {},
     "output_type": "display_data"
    }
   ],
   "source": [
    "# Feature importance\n",
    "sorted_indices = np.argsort(logreg_a.coef_[0])\n",
    "\n",
    "plt.figure(figsize=(5, 3))\n",
    "plt.barh([logreg_a.feature_names_in_[i] for i in sorted_indices], logreg_a.coef_[0][sorted_indices])\n",
    "plt.xlabel('Feature Importance (Coefficient Value)')\n",
    "plt.ylabel('Feature Name')\n",
    "plt.title('Feature Importance in Logistic Regression')\n",
    "plt.show()"
   ]
  },
  {
   "cell_type": "code",
   "execution_count": 72,
   "id": "e50a796a-e3f2-44bb-ab83-8266e3ce6496",
   "metadata": {
    "tags": []
   },
   "outputs": [
    {
     "data": {
      "text/plain": [
       "array(['TOTAL_VISIT_COUNT', 'DAYS_SINCE_LAST_POST',\n",
       "       'DAYS_SINCE_LAST_VISIT'], dtype=object)"
      ]
     },
     "execution_count": 72,
     "metadata": {},
     "output_type": "execute_result"
    }
   ],
   "source": [
    "logreg_a.feature_names_in_"
   ]
  },
  {
   "cell_type": "code",
   "execution_count": 80,
   "id": "ad52ce2a-09d2-40c5-b387-8edafa23824a",
   "metadata": {
    "tags": []
   },
   "outputs": [
    {
     "data": {
      "text/plain": [
       "array([ 2.03752356e-03, -6.03650727e-04,  5.61796485e+00])"
      ]
     },
     "execution_count": 80,
     "metadata": {},
     "output_type": "execute_result"
    }
   ],
   "source": [
    "logreg_a.coef_[0]"
   ]
  },
  {
   "cell_type": "code",
   "execution_count": 92,
   "id": "efbdce14-ba29-4887-b923-bab79494bedb",
   "metadata": {
    "tags": []
   },
   "outputs": [
    {
     "data": {
      "text/plain": [
       "array([-345.63696541])"
      ]
     },
     "execution_count": 92,
     "metadata": {},
     "output_type": "execute_result"
    }
   ],
   "source": [
    "logreg_a.intercept_"
   ]
  },
  {
   "cell_type": "markdown",
   "id": "1d1ba722-3d95-46e3-a7e3-70f62ec3a903",
   "metadata": {
    "jp-MarkdownHeadingCollapsed": true,
    "tags": []
   },
   "source": [
    "### Model B\n",
    "Without days passed since last vist"
   ]
  },
  {
   "cell_type": "code",
   "execution_count": 83,
   "id": "91d7af9f-23a3-4818-98b9-244f467ddb4f",
   "metadata": {
    "tags": []
   },
   "outputs": [
    {
     "data": {
      "text/plain": [
       "array([[4871, 1457],\n",
       "       [ 977, 5195]], dtype=int64)"
      ]
     },
     "execution_count": 83,
     "metadata": {},
     "output_type": "execute_result"
    }
   ],
   "source": [
    "# moderate or high relationship variables only\n",
    "# Model B without days passed since last vist\n",
    "variables_for_churn_prediction_b = ['TOTAL_VISIT_COUNT','DAYS_SINCE_LAST_POST']\n",
    "\n",
    "X = df[variables_for_churn_prediction_b]\n",
    "y = df['CHURNED_INT']\n",
    "\n",
    "X_train, X_test, y_train, y_test = train_test_split(X, y, test_size=0.25, random_state=42)\n",
    "\n",
    "logreg_b = LogisticRegression(random_state=42)\n",
    "logreg_b.fit(X_train, y_train)\n",
    "\n",
    "y_pred_b = logreg_b.predict(X_test)\n",
    "cnf_matrix_b = metrics.confusion_matrix(y_test, y_pred_b)\n",
    "cnf_matrix_b"
   ]
  },
  {
   "cell_type": "code",
   "execution_count": 84,
   "id": "290b5dd4-afa4-430a-8692-41fb3e73d5c8",
   "metadata": {
    "tags": []
   },
   "outputs": [
    {
     "data": {
      "image/png": "[encoded data removed]",
      "text/plain": [
       "<Figure size 400x200 with 2 Axes>"
      ]
     },
     "metadata": {},
     "output_type": "display_data"
    }
   ],
   "source": [
    "class_names = [False,True] \n",
    "\n",
    "fig, ax = plt.subplots(figsize=(4,2))\n",
    "tick_marks = np.arange(len(class_names))\n",
    "plt.xticks(tick_marks, class_names)\n",
    "plt.yticks(tick_marks, class_names)\n",
    "\n",
    "\n",
    "sns.heatmap(pd.DataFrame(cnf_matrix_b), annot=True, cmap=\"YlGnBu\" ,fmt='g')\n",
    "ax.xaxis.set_label_position(\"top\")\n",
    "plt.tight_layout()\n",
    "plt.title('Confusion matrix, Model B', y=1.1)\n",
    "plt.ylabel('Actual label')\n",
    "plt.xlabel('Predicted label');"
   ]
  },
  {
   "cell_type": "code",
   "execution_count": 88,
   "id": "5e5ac999-feb1-42a9-9e66-ccc1476356ea",
   "metadata": {
    "tags": []
   },
   "outputs": [
    {
     "name": "stdout",
     "output_type": "stream",
     "text": [
      "              precision    recall  f1-score   support\n",
      "\n",
      " Non-Churned       0.83      0.77      0.80      6328\n",
      "     Churned       0.78      0.84      0.81      6172\n",
      "\n",
      "    accuracy                           0.81     12500\n",
      "   macro avg       0.81      0.81      0.81     12500\n",
      "weighted avg       0.81      0.81      0.81     12500\n",
      "\n"
     ]
    }
   ],
   "source": [
    "print(metrics.classification_report(y_test, y_pred_b, target_names=class_names))"
   ]
  },
  {
   "cell_type": "code",
   "execution_count": 89,
   "id": "d0552e55-28a5-49c9-92ad-d8caadefd2c1",
   "metadata": {
    "tags": []
   },
   "outputs": [
    {
     "data": {
      "text/plain": [
       "0.22099867023128794"
      ]
     },
     "execution_count": 89,
     "metadata": {},
     "output_type": "execute_result"
    }
   ],
   "source": [
    "metrics.r2_score(y_test,y_pred_b)"
   ]
  },
  {
   "cell_type": "markdown",
   "id": "9eca33ff-0cc0-4b25-a7d8-f2e8d0aea596",
   "metadata": {},
   "source": [
    "R-squared measures the scatter of the data around the regression lines. The value is between 0 and 1.\n",
    "- Low R-squared values can warn of imprecise predictions.\n",
    "- Low R-squared => high variability"
   ]
  },
  {
   "cell_type": "code",
   "execution_count": 90,
   "id": "e919b0e3-a4af-47bd-80f6-06ec94ff6aac",
   "metadata": {
    "tags": []
   },
   "outputs": [
    {
     "name": "stdout",
     "output_type": "stream",
     "text": [
      "0.0\n",
      "0.0\n"
     ]
    }
   ],
   "source": [
    "f_statistic, p_values = f_regression(X_train, y_train)\n",
    "\n",
    "for p in p_values:\n",
    "    print(p)"
   ]
  },
  {
   "cell_type": "markdown",
   "id": "96a8c073-0816-437d-b241-029d433913a5",
   "metadata": {},
   "source": [
    "All variables are statistically significant, since the p-values are lower than the significance value 0.05"
   ]
  },
  {
   "cell_type": "code",
   "execution_count": 94,
   "id": "611f2bb3-283a-4698-891c-47c8dc16b7d1",
   "metadata": {
    "tags": []
   },
   "outputs": [
    {
     "data": {
      "image/png": "[encoded data removed]",
      "text/plain": [
       "<Figure size 500x300 with 1 Axes>"
      ]
     },
     "metadata": {},
     "output_type": "display_data"
    }
   ],
   "source": [
    "# Feature importance\n",
    "sorted_indices = np.argsort(logreg_b.coef_[0])\n",
    "\n",
    "plt.figure(figsize=(5, 3))\n",
    "plt.barh([logreg_b.feature_names_in_[i] for i in sorted_indices], logreg_b.coef_[0][sorted_indices])\n",
    "plt.xlabel('Feature Importance (Coefficient Value)')\n",
    "plt.ylabel('Feature Name')\n",
    "plt.title('Feature Importance in Logistic Regression')\n",
    "plt.show()"
   ]
  },
  {
   "cell_type": "code",
   "execution_count": 96,
   "id": "3e524801-98f5-483d-af99-c78586ebc833",
   "metadata": {
    "tags": []
   },
   "outputs": [
    {
     "data": {
      "text/plain": [
       "array(['TOTAL_VISIT_COUNT', 'DAYS_SINCE_LAST_POST'], dtype=object)"
      ]
     },
     "execution_count": 96,
     "metadata": {},
     "output_type": "execute_result"
    }
   ],
   "source": [
    "logreg_b.feature_names_in_"
   ]
  },
  {
   "cell_type": "code",
   "execution_count": 95,
   "id": "87144f19-83c1-4a80-ba53-3f3a69db8386",
   "metadata": {
    "tags": []
   },
   "outputs": [
    {
     "data": {
      "text/plain": [
       "array([[-0.02001596,  0.00633544]])"
      ]
     },
     "execution_count": 95,
     "metadata": {},
     "output_type": "execute_result"
    }
   ],
   "source": [
    "logreg_b.coef_"
   ]
  },
  {
   "cell_type": "code",
   "execution_count": 93,
   "id": "a599f11e-1e04-4819-81b3-74d07d15fddc",
   "metadata": {
    "tags": []
   },
   "outputs": [
    {
     "data": {
      "text/plain": [
       "array([-0.5279225])"
      ]
     },
     "execution_count": 93,
     "metadata": {},
     "output_type": "execute_result"
    }
   ],
   "source": [
    "logreg_b.intercept_"
   ]
  },
  {
   "cell_type": "markdown",
   "id": "9a9bfe9e-8f15-4e86-8a4a-d37c88d240d0",
   "metadata": {
    "tags": []
   },
   "source": [
    "#### Interpretation of feature importance\n",
    "- TOTAL_VISIT_COUNT has a negative coefficient, that is, the more visits, lower the probability is of a user to churn. The weight is approx. 3x bigger (absolute value) if compared to the impact of the feature DAYS_SINCE_LAST_POST.\n",
    "- DAYS_SINCE_LAST_POST has a positive coefficient, that is, the more days have passed since the users' last post, the higher the probability of a user to churn. The weight is approx. 3x smaller (absolute values) if compared to the impact of the feature TOTAL_VISIT_COUNT."
   ]
  },
  {
   "cell_type": "markdown",
   "id": "ad679c32-480a-4366-8ed6-8cc4f2c2fb4d",
   "metadata": {
    "jp-MarkdownHeadingCollapsed": true,
    "tags": []
   },
   "source": [
    "# 5 Strategies for user retention"
   ]
  },
  {
   "cell_type": "markdown",
   "id": "b38b5ccb-8863-4f79-9be1-635fc5fd75f1",
   "metadata": {
    "tags": []
   },
   "source": [
    "Based on the model B and EDA:\n",
    "- Encourage users to have more visits in the platform -> higher the number of visits, less chance of churning.\n",
    "- Encourage users to post something new on the platform each 142.0 days (median of the variable for non-churned users)."
   ]
  },
  {
   "cell_type": "markdown",
   "id": "af72696b-e403-4850-b2c6-ca1d3033332b",
   "metadata": {
    "tags": []
   },
   "source": [
    "Based on the correlation analysis:\n",
    "- Encourage users to visit the platform to answer/comment to another users' post\n",
    "- Encourage users to post more on the platform (>3 posts since they registered)"
   ]
  },
  {
   "cell_type": "code",
   "execution_count": 271,
   "id": "b5b02a0d-44b2-4b79-be15-f846c978284f",
   "metadata": {
    "tags": []
   },
   "outputs": [
    {
     "data": {
      "image/png": "[encoded data removed]",
      "text/plain": [
       "<Figure size 640x480 with 1 Axes>"
      ]
     },
     "metadata": {},
     "output_type": "display_data"
    }
   ],
   "source": [
    "df_no_outliers.groupby('CHURNED')['POST_CAT'].value_counts().unstack().plot.barh();\n",
    "plt.title('Churn status vs Amount of posts')\n",
    "plt.xlabel('Number of Users');"
   ]
  },
  {
   "cell_type": "markdown",
   "id": "c2585a28-c2fd-48de-a55f-23692a25d5af",
   "metadata": {
    "tags": []
   },
   "source": [
    "We see more users that churned with one post only, while more users that did not churn have 3 or more posts"
   ]
  },
  {
   "cell_type": "code",
   "execution_count": null,
   "id": "d86d32c0-2bc4-40be-910e-fcd9379938cf",
   "metadata": {},
   "outputs": [],
   "source": []
  }
 ],
 "metadata": {
  "kernelspec": {
   "display_name": "Python 3 (ipykernel)",
   "language": "python",
   "name": "python3"
  },
  "language_info": {
   "codemirror_mode": {
    "name": "ipython",
    "version": 3
   },
   "file_extension": ".py",
   "mimetype": "text/x-python",
   "name": "python",
   "nbconvert_exporter": "python",
   "pygments_lexer": "ipython3",
   "version": "3.8.5"
  }
 },
 "nbformat": 4,
 "nbformat_minor": 5
}
